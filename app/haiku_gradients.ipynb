{
 "cells": [
  {
   "cell_type": "markdown",
   "id": "975ac9c0",
   "metadata": {},
   "source": [
    "# Imports"
   ]
  },
  {
   "cell_type": "code",
   "execution_count": 1,
   "id": "01342bc5",
   "metadata": {},
   "outputs": [
    {
     "name": "stderr",
     "output_type": "stream",
     "text": [
      "Matplotlib created a temporary config/cache directory at /tmp/matplotlib-5n6h7rzn because the default path (/home/jovyan/.cache/matplotlib) is not a writable directory; it is highly recommended to set the MPLCONFIGDIR environment variable to a writable directory, in particular to speed up the import of Matplotlib and to better support multiprocessing.\n"
     ]
    }
   ],
   "source": [
    "import jax.numpy as jnp\n",
    "from jax import grad, jit, vmap\n",
    "from jax import random\n",
    "\n",
    "from typing import Generator, Mapping, Tuple\n",
    "\n",
    "from absl import app\n",
    "import haiku as hk\n",
    "import jax\n",
    "import jax.numpy as jnp\n",
    "import numpy as np\n",
    "import optax\n",
    "import tensorflow_datasets as tfds\n",
    "import functools\n",
    "import matplotlib.pyplot as plt\n",
    "import math\n",
    "Batch = Mapping[str, np.ndarray]"
   ]
  },
  {
   "cell_type": "markdown",
   "id": "020fc776",
   "metadata": {},
   "source": [
    "# Functions"
   ]
  },
  {
   "cell_type": "markdown",
   "id": "84d8e261",
   "metadata": {},
   "source": [
    "## General"
   ]
  },
  {
   "cell_type": "code",
   "execution_count": 2,
   "id": "dd92f1bc",
   "metadata": {},
   "outputs": [],
   "source": [
    "def load_dataset(dataset: str, split: str, *, is_training: bool, \n",
    "                 batch_size: int) -> Generator[Batch, None, None]:\n",
    "\n",
    "    if dataset == \"cifar10\":\n",
    "        ds = tfds.load(\"cifar10\", split=split).cache().repeat()\n",
    "    elif dataset == \"mnist\":\n",
    "        ds = tfds.load(\"mnist:3.*.*\", split=split).cache().repeat()\n",
    "    else:\n",
    "        raise Exception(\"Invalid Dataset\")\n",
    "    if is_training:\n",
    "        ds = ds.shuffle(10 * batch_size, seed=0)\n",
    "    ds = ds.batch(batch_size)\n",
    "    return iter(tfds.as_numpy(ds))\n",
    "\n",
    "def get_mnist_data(batch_size=1000):\n",
    "    train = load_dataset(\"mnist\", \"train\", is_training=True, batch_size=batch_size)\n",
    "    train_eval = load_dataset(\"mnist\", \"train\", is_training=False, batch_size=batch_size)\n",
    "    test_eval = load_dataset(\"mnist\", \"test\", is_training=False, batch_size=batch_size)\n",
    "    return train, train_eval, test_eval\n",
    "\n",
    "    \n",
    "\n",
    "def softmax_xent_loss(net):\n",
    "    \"\"\"\n",
    "    Params:\n",
    "        net: network function (with apply and init funcs)\n",
    "    \n",
    "    Returns:\n",
    "        loss_fn: function(params, batch) --> loss\n",
    "        \n",
    "    Creates softmax cross entropy loss function for a given network\n",
    "    \"\"\"\n",
    "    @jax.jit\n",
    "    def loss(params, batch):\n",
    "        logits = net.apply(params, batch)\n",
    "        labels = jax.nn.one_hot(batch[\"label\"], 10)\n",
    "\n",
    "        l2_loss = 0.5 * sum(jnp.sum(jnp.square(p)) for p in jax.tree_leaves(params))\n",
    "        softmax_xent = -jnp.sum(labels * jax.nn.log_softmax(logits))\n",
    "        softmax_xent /= labels.shape[0]\n",
    "\n",
    "        return softmax_xent + 1e-4 * l2_loss\n",
    "    \n",
    "    return loss \n",
    "\n",
    "\n",
    "def ptwise_grads(loss_fn):\n",
    "    \"\"\"\n",
    "    Params:\n",
    "        loss_fn: function(params, batch) --> loss \n",
    "    \n",
    "    Returns:\n",
    "        function(params, batch) --> pointwise gradients\n",
    "    \n",
    "    \"\"\"\n",
    "    \n",
    "    def helper(params, batch):\n",
    "        batch['image'] = jnp.expand_dims(batch['image'], axis=0)\n",
    "        batch['label'] = jnp.expand_dims(batch['label'], axis=0)\n",
    "        return jax.grad(loss_fn)(params, batch)\n",
    "    \n",
    "    return jax.jit(jax.vmap(helper, in_axes=(None, {'image': 0, 'label': 0}), out_axes=0))\n",
    "\n",
    "\n",
    "# Returns both network and loss given net function so as to not mistakenly use incompatible functions\n",
    "def network_and_loss(net_fn, rng=False):\n",
    "    if not rng:\n",
    "        net = hk.without_apply_rng(hk.transform(net_fn))\n",
    "    else:\n",
    "        net = hk.transform(net_fn)\n",
    "        \n",
    "    loss_fn = softmax_xent_loss(net)\n",
    "    \n",
    "    return net, loss_fn\n",
    "    \n",
    "    \n",
    "    \n",
    "    \n"
   ]
  },
  {
   "cell_type": "markdown",
   "id": "feef5c0c",
   "metadata": {},
   "source": [
    "## Network Architectures"
   ]
  },
  {
   "cell_type": "code",
   "execution_count": 3,
   "id": "7fcaf871",
   "metadata": {},
   "outputs": [],
   "source": [
    "def net_fn(batch: Batch) -> jnp.ndarray:\n",
    "    \"\"\"Standard LeNet-300-100 MLP network.\"\"\"\n",
    "    x = batch[\"image\"].astype(jnp.float32) / 255.\n",
    "    mlp = hk.Sequential([\n",
    "      hk.Flatten(),\n",
    "      hk.Linear(300), jax.nn.relu,\n",
    "      hk.Linear(100), jax.nn.relu,\n",
    "      hk.Linear(10),\n",
    "    ])\n",
    "    return mlp(x)\n",
    "\n",
    "\n",
    "def net_fn_cnn(batch: jnp.ndarray) -> jnp.ndarray:\n",
    "    \"\"\"Vanilla CNN for MNIST\"\"\"\n",
    "    x = batch[\"image\"].astype(jnp.float32) / 255.\n",
    "    cnn = hk.Sequential([\n",
    "      hk.Conv2D(24,5),\n",
    "      hk.MaxPool(window_shape=2, strides=2, padding=\"VALID\", channel_axis=- 1, name=None),\n",
    "      hk.Conv2D(48,5),\n",
    "      hk.MaxPool(window_shape=2, strides=2, padding=\"VALID\", channel_axis=- 1, name=None),\n",
    "      hk.Flatten(),\n",
    "      hk.Linear(10),\n",
    "    ])\n",
    "    return cnn(x)\n",
    "\n",
    "def deeper_cnn(batch: jnp.ndarray) -> jnp.ndarray:\n",
    "    \"\"\"Slightly deeper CNN for MNIST\"\"\"\n",
    "    x = batch[\"image\"].astype(jnp.float32) / 255.\n",
    "    cnn = hk.Sequential([\n",
    "        hk.Conv2D(24,5), jax.nn.relu,\n",
    "        hk.MaxPool(window_shape=2, strides=2, padding=\"VALID\", channel_axis=- 1, name=None),\n",
    "        hk.Conv2D(48,5), jax.nn.relu,\n",
    "        hk.MaxPool(window_shape=2, strides=2, padding=\"VALID\", channel_axis=- 1, name=None),\n",
    "        hk.Conv2D(64, 5), jax.nn.relu,\n",
    "        hk.MaxPool(window_shape=2, strides=2, padding=\"VALID\", channel_axis=- 1, name=None),\n",
    "        hk.Flatten(),\n",
    "        hk.Linear(10),\n",
    "    ])\n",
    "    return cnn(x)\n",
    "\n",
    "def deepest_cnn(batch: jnp.ndarray) -> jnp.ndarray:\n",
    "    \"\"\"Slightly deeper CNN for MNIST\"\"\"\n",
    "    x = batch[\"image\"].astype(jnp.float32) / 255.\n",
    "    cnn = hk.Sequential([\n",
    "        hk.Conv2D(24,5), jax.nn.relu,\n",
    "        hk.Conv2D(24,5), jax.nn.relu,\n",
    "        hk.Conv2D(24,5), jax.nn.relu,\n",
    "        hk.MaxPool(window_shape=2, strides=2, padding=\"VALID\", channel_axis=- 1, name=None),\n",
    "        hk.Conv2D(48,5), jax.nn.relu,\n",
    "        hk.Conv2D(48, 5), jax.nn.relu,\n",
    "        hk.Conv2D(48, 5), jax.nn.relu,\n",
    "        hk.MaxPool(window_shape=2, strides=2, padding=\"VALID\", channel_axis=- 1, name=None),\n",
    "        hk.Conv2D(96, 5), jax.nn.relu,\n",
    "        hk.Conv2D(96, 5), jax.nn.relu,\n",
    "        hk.Conv2D(96, 5), jax.nn.relu,\n",
    "        hk.MaxPool(window_shape=2, strides=2, padding=\"VALID\", channel_axis=- 1, name=None),\n",
    "        hk.Flatten(),\n",
    "        hk.Linear(10),\n",
    "    ])\n",
    "    return cnn(x)\n"
   ]
  },
  {
   "cell_type": "markdown",
   "id": "02716b4d",
   "metadata": {},
   "source": [
    "## Training"
   ]
  },
  {
   "cell_type": "code",
   "execution_count": 4,
   "id": "3c71e82f",
   "metadata": {},
   "outputs": [],
   "source": [
    "def net_accuracy(net):  \n",
    "    @jax.jit\n",
    "    def accuracy(params: hk.Params, batch: Batch) -> jnp.ndarray:\n",
    "        predictions = net.apply(params, batch)\n",
    "        return jnp.mean(jnp.argmax(predictions, axis=-1) == batch[\"label\"])\n",
    "    return accuracy\n",
    "\n",
    "\n",
    "\n",
    "def update_params(loss_fn):   \n",
    "    @jax.jit\n",
    "    def update(\n",
    "      params: hk.Params,\n",
    "      opt_state: optax.OptState,\n",
    "      batch: Batch,\n",
    "    ) -> Tuple[hk.Params, optax.OptState]:\n",
    "        grads = jax.grad(loss_fn)(params, batch)\n",
    "        updates, opt_state = opt.update(grads, opt_state)\n",
    "        new_params = optax.apply_updates(params, updates)\n",
    "        return new_params, opt_state\n",
    "    return update\n",
    "\n",
    "# We maintain avg_params, the exponential moving average of the \"live\" params.\n",
    "# avg_params is used only for evaluation (cf. https://doi.org/10.1137/0330046)\n",
    "@jax.jit\n",
    "def ema_update(params, avg_params):\n",
    "    return optax.incremental_update(params, avg_params, step_size=0.001)\n",
    "\n",
    "def do_training(net, loss_fn, params, opt_state, train, train_eval, test_eval, epochs=10001, print_epoch=1000):\n",
    "\n",
    "    accuracy = net_accuracy(net)\n",
    "    update = update_params(loss_fn)\n",
    "    avg_params = params\n",
    "    \n",
    "    # Train/eval loop.\n",
    "    for step in range(epochs):\n",
    "        if step % print_epoch == 0:\n",
    "            # Periodically evaluate classification accuracy on train & test sets.\n",
    "            train_accuracy = accuracy(avg_params, next(train_eval))\n",
    "            test_accuracy = accuracy(avg_params, next(test_eval))\n",
    "            train_accuracy, test_accuracy = jax.device_get(\n",
    "              (train_accuracy, test_accuracy))\n",
    "            print(f\"[Step {step}] Train / Test accuracy: \"\n",
    "                f\"{train_accuracy:.3f} / {test_accuracy:.3f}.\")\n",
    "\n",
    "        # Do SGD on a batch of training examples.\n",
    "        params, opt_state = update(params, opt_state, next(train))\n",
    "        avg_params = ema_update(params, avg_params)\n",
    "    \n",
    "    return avg_params"
   ]
  },
  {
   "cell_type": "markdown",
   "id": "176bb2e8",
   "metadata": {},
   "source": [
    "## Compute Distances"
   ]
  },
  {
   "cell_type": "code",
   "execution_count": 5,
   "id": "fe218237",
   "metadata": {},
   "outputs": [],
   "source": [
    "def ravel_pytree(pytree):\n",
    "    leaves, treedef = jax.tree_flatten(pytree)\n",
    "    batch_size = leaves[0].shape[0]\n",
    "    return jnp.concatenate([jnp.reshape(elt,(batch_size,-1)) for elt in leaves],axis=1)\n",
    "\n",
    "def avg_sim(features,labels,classes,seq,num_iters=1000):\n",
    "    \n",
    "    n_classes = len(classes)\n",
    "    counts = np.zeros(shape=(n_classes,n_classes))\n",
    "    totals = np.zeros(shape=(n_classes,n_classes))\n",
    "    \n",
    "    batch_size = features.shape[0]\n",
    "    \n",
    "    for _ in range(num_iters):\n",
    "    \n",
    "        \n",
    "        # sample two points, dot them\n",
    "        [i,j]  = random.choice(next(seq),np.arange(batch_size),shape=(2,),replace=False)\n",
    "        prod = jnp.dot(features[i],features[j])\n",
    "        \n",
    "        indi = classes.index(labels[i])\n",
    "        indj = classes.index(labels[j])\n",
    "        \n",
    "        totals[indi,indj] += prod\n",
    "        counts[indi,indj] += 1\n",
    "    \n",
    "    totals = (totals + totals.T)/2\n",
    "    counts = (counts + counts.T)/2\n",
    "    print(counts)\n",
    "    \n",
    "\n",
    "    return totals/counts\n",
    "\n",
    "\n",
    "def new_avg_sim(loss, params, batch, seq, num_iters=100, minibatch_size=10):\n",
    "    \n",
    "    classes = list(range(10))\n",
    "    n_classes = len(classes)\n",
    "    counts = np.zeros(shape=(n_classes,n_classes))\n",
    "    totals = np.zeros(shape=(n_classes,n_classes))\n",
    "    batch_size = batch['image'].shape[0]\n",
    "    \n",
    "    for _ in range(num_iters):\n",
    "        # 1) randomly select minibatch of size minibatch_size\n",
    "        # 2) compute pointwise gradients for each sample in minibatch\n",
    "        # 3) compute pairwise inner products between all pointwise gradients in minibatch\n",
    "        \n",
    "        # (1)\n",
    "        batch_selection = np.arange(batch_size)\n",
    "        minibatch_idx = random.choice(next(seq), batch_selection, shape=(minibatch_size,), replace=False)\n",
    "        minibatch = jnp.take(batch['image'], minibatch_idx, axis=0)\n",
    "        minibatch_labels = jnp.take(batch['label'], minibatch_idx, axis=0)\n",
    "        \n",
    "        # (2)\n",
    "        compute_pointwise_grads = ptwise_grads(loss)\n",
    "        pointwise_grads = compute_pointwise_grads(params, {'image': minibatch, 'label': minibatch_labels})\n",
    "        \n",
    "        # (3)\n",
    "        features = ravel_pytree(pointwise_grads)\n",
    "        for i in range(minibatch_size):\n",
    "            for j in range(minibatch_size):\n",
    "                if j >= i:\n",
    "                    continue\n",
    "                prod = jnp.dot(features[i], features[j])\n",
    "                \n",
    "                indi = classes.index(minibatch_labels[i])\n",
    "                indj = classes.index(minibatch_labels[j])\n",
    "                \n",
    "                totals[indi,indj] += prod\n",
    "                counts[indi,indj] += 1\n",
    "                \n",
    "    # (4)\n",
    "    totals = (totals + totals.T)/2\n",
    "    counts = (counts + counts.T)/2\n",
    "    print(counts)\n",
    "    \n",
    "\n",
    "    return totals/counts\n",
    "   \n",
    "            \n",
    "        \n",
    "    \n",
    "\n",
    "def compute_distances(loss, params, batch, iters=1000, prng_seq=None):\n",
    "    compute_pointwise_gradients = ptwise_grads(loss)\n",
    "    pointwise_gradients = compute_pointwise_gradients(params, batch)\n",
    "    return avg_sim(ravel_pytree(pointwise_gradients), batch['label'], \n",
    "                   list(range(10)), prng_seq if prng_seq else hk.PRNGSequence(42), num_iters=iters)"
   ]
  },
  {
   "cell_type": "markdown",
   "id": "2ef97793",
   "metadata": {},
   "source": [
    "# Do Stuff"
   ]
  },
  {
   "cell_type": "markdown",
   "id": "b6c5c063",
   "metadata": {},
   "source": [
    "# Training loop"
   ]
  },
  {
   "cell_type": "code",
   "execution_count": null,
   "id": "a4204a80",
   "metadata": {},
   "outputs": [],
   "source": [
    "# load mnist data\n",
    "train, train_eval, test_eval = get_mnist_data()\n",
    "\n",
    "# cnn, loss, params\n",
    "cnn, xent_loss = network_and_loss(net_fn_cnn)\n",
    "params = cnn.init(jax.random.PRNGKey(42), next(train))\n",
    "\n",
    "# optimization of network\n",
    "opt = optax.adam(1e-3)\n",
    "opt_state = opt.init(params)\n",
    "\n",
    "# train cnn\n",
    "final_params = do_training(cnn, xent_loss, params, opt_state, train, train_eval, test_eval, epochs=1001)"
   ]
  },
  {
   "cell_type": "markdown",
   "id": "af18261d",
   "metadata": {},
   "source": [
    "## Gradient distances"
   ]
  },
  {
   "cell_type": "code",
   "execution_count": null,
   "id": "da7c8dcb",
   "metadata": {},
   "outputs": [],
   "source": [
    "# single, constant batch for replicable results\n",
    "train = load_dataset(\"mnist\", \"train\", is_training=True, batch_size=1000)\n",
    "batch = next(train)"
   ]
  },
  {
   "cell_type": "code",
   "execution_count": null,
   "id": "a08acf90",
   "metadata": {},
   "outputs": [],
   "source": [
    "t_initial_distances = compute_distances(xent_loss, params, batch)\n",
    "t_final_distances = compute_distances(xent_loss, final_params, batch)"
   ]
  },
  {
   "cell_type": "code",
   "execution_count": null,
   "id": "b6e734ac",
   "metadata": {},
   "outputs": [],
   "source": [
    "# initial distances\n",
    "plt.imshow(t_initial_distances)\n",
    "plt.colorbar()"
   ]
  },
  {
   "cell_type": "code",
   "execution_count": null,
   "id": "57875b8d",
   "metadata": {
    "scrolled": true
   },
   "outputs": [],
   "source": [
    "# final distances\n",
    "plt.imshow(t_final_distances)\n",
    "plt.colorbar()"
   ]
  },
  {
   "cell_type": "markdown",
   "id": "26f51b75",
   "metadata": {},
   "source": [
    "## Deeper network"
   ]
  },
  {
   "cell_type": "code",
   "execution_count": null,
   "id": "6cc043a2",
   "metadata": {},
   "outputs": [],
   "source": [
    "train, train_eval, test_eval = get_mnist_data()\n",
    "batch = next(train)\n",
    "batch = next(train)\n",
    "\n",
    "deep_cnn, loss = network_and_loss(deeper_cnn)\n",
    "params = deep_cnn.init(jax.random.PRNGKey(34), next(train))\n",
    "print(batch['image'].shape)"
   ]
  },
  {
   "cell_type": "code",
   "execution_count": null,
   "id": "ac3421f9",
   "metadata": {},
   "outputs": [],
   "source": [
    "distances = compute_distances(loss, params, batch, 7000)\n",
    "plt.imshow(distances)\n",
    "plt.colorbar()"
   ]
  },
  {
   "cell_type": "markdown",
   "id": "e7b335e5",
   "metadata": {},
   "source": [
    "## Even Deeper\n",
    "\n",
    "Note: For larger networks with more parameters, it will be infeasible to store all of the pointwise gradients at the same time. Instead we will have to perform the pointwise gradient computation on minibatches of a given batch."
   ]
  },
  {
   "cell_type": "code",
   "execution_count": null,
   "id": "a38481e4",
   "metadata": {},
   "outputs": [],
   "source": [
    "# Even deeper\n",
    "train, train_eval, test_eval = get_mnist_data(1000)\n",
    "batch = next(train)\n",
    "\n",
    "\n",
    "cnn, loss = network_and_loss(deepest_cnn)\n",
    "params = cnn.init(jax.random.PRNGKey(2), next(train))"
   ]
  },
  {
   "cell_type": "code",
   "execution_count": null,
   "id": "09c36a79",
   "metadata": {},
   "outputs": [],
   "source": [
    "distances = new_avg_sim(loss, params, batch, hk.PRNGSequence(42), num_iters=100)"
   ]
  },
  {
   "cell_type": "code",
   "execution_count": null,
   "id": "9edbb32e",
   "metadata": {},
   "outputs": [],
   "source": [
    "plt.imshow(distances)\n",
    "plt.colorbar()"
   ]
  },
  {
   "cell_type": "code",
   "execution_count": null,
   "id": "7c5339fd",
   "metadata": {},
   "outputs": [],
   "source": [
    "opt = optax.adam(1e-3)\n",
    "opt_state = opt.init(params)\n",
    "\n",
    "final_params = do_training(cnn, loss, params, opt_state, train, train_eval, test_eval, epochs=3001)"
   ]
  },
  {
   "cell_type": "markdown",
   "id": "35401204",
   "metadata": {},
   "source": [
    "# Playground"
   ]
  },
  {
   "cell_type": "code",
   "execution_count": 6,
   "id": "3815f7d1",
   "metadata": {},
   "outputs": [],
   "source": [
    "# TODO\n",
    "# Run multiple colobars while varying batch and initial params\n",
    "# Implement paper to reduce dimension while preserving dot product\n"
   ]
  },
  {
   "cell_type": "code",
   "execution_count": 7,
   "id": "98540e1a",
   "metadata": {
    "scrolled": true
   },
   "outputs": [
    {
     "name": "stdout",
     "output_type": "stream",
     "text": [
      "\u001b[1mDownloading and preparing dataset 11.06 MiB (download: 11.06 MiB, generated: 21.00 MiB, total: 32.06 MiB) to /home/jovyan/tensorflow_datasets/mnist/3.0.1...\u001b[0m\n"
     ]
    },
    {
     "data": {
      "application/vnd.jupyter.widget-view+json": {
       "model_id": "f33f9a1818f2443facf5dc6d1dccf40e",
       "version_major": 2,
       "version_minor": 0
      },
      "text/plain": [
       "Dl Completed...:   0%|          | 0/4 [00:00<?, ? file/s]"
      ]
     },
     "metadata": {},
     "output_type": "display_data"
    },
    {
     "name": "stdout",
     "output_type": "stream",
     "text": [
      "\n",
      "\u001b[1mDataset mnist downloaded and prepared to /home/jovyan/tensorflow_datasets/mnist/3.0.1. Subsequent calls will reuse this data.\u001b[0m\n"
     ]
    }
   ],
   "source": [
    "## Initialize deep cnn\n",
    "train, train_eval, test_eval = get_mnist_data(1000)\n",
    "batch = next(train)\n",
    "cnn, loss = network_and_loss(deepest_cnn)\n",
    "params = cnn.init(jax.random.PRNGKey(2), next(train))\n",
    "\n",
    "# out of memory error, two many network parameters to compute 1000 pointwise gradients at once\n",
    "# pointwise_gradients = ptwise_grads(loss)(params, batch)\n",
    "# gradient_features = ravel_pytree(pointwise_gradients)"
   ]
  },
  {
   "cell_type": "code",
   "execution_count": 8,
   "id": "5bbc9393",
   "metadata": {},
   "outputs": [],
   "source": [
    "## Couple methods for going about this:\n",
    "    # for each point, compute pointwise gradient then reduce dimension\n",
    "    # Compute pointwise gradients in minibatches and reduce dimension\n",
    "    \n",
    "\n",
    "def Achlio_matrix(large_dim, small_dim, prng_key):\n",
    "    print(large_dim)\n",
    "    mat =  random.choice(prng_key, np.array([-1, 0, 1]), \n",
    "                         shape=(large_dim,), p=np.array([1./6., 2./3., 1./6.]), replace=True)\n",
    "    return jnp.sqrt(3)*mat\n",
    "    \n",
    "\n",
    "def features_for_point(loss):\n",
    "    \n",
    "\n",
    "    def helper(batch, params):\n",
    "        point = {}\n",
    "        point['image'] = jnp.expand_dims(batch['image'], axis=0)\n",
    "        point['label'] = jnp.expand_dims(batch['label'], axis=0)\n",
    "        gradient = jax.grad(loss)(params, point)\n",
    "        leaves, _ = jax.tree_flatten(gradient)\n",
    "        features = jnp.concatenate([jnp.reshape(elt, -1) for elt in leaves], axis=0)\n",
    "        return features\n",
    "    return helper\n",
    "    \n",
    "\n",
    "        "
   ]
  },
  {
   "cell_type": "code",
   "execution_count": 14,
   "id": "44ea836d",
   "metadata": {},
   "outputs": [],
   "source": [
    "@jax.jit\n",
    "def one_feature(key, old_features):\n",
    "    vec = jnp.ravel(Achlio_matrix(old_features.shape[0],1, key))\n",
    "    return jnp.dot(vec, old_features)\n",
    "\n",
    "def all_features(loss, params):\n",
    "\n",
    "    def helper(keys, single_point):\n",
    "        old_features = features_for_point(loss)(single_point, params)\n",
    "        return jnp.array([one_feature(keys[i], old_features) for i in range(1000)])\n",
    "    return helper\n",
    "\n",
    "def new_all_features(loss, params):\n",
    "    @jax.jit\n",
    "    def helper(keys, single_point):\n",
    "        old_features = features_for_point(loss)(single_point, params)\n",
    "        @jax.jit\n",
    "        def f(carry, key):\n",
    "            return carry, one_feature(key, old_features)\n",
    "        _, res = jax.lax.scan(f, None, keys)\n",
    "        return res\n",
    "    return helper\n",
    "\n",
    "def all_points_in_batch(loss, params):\n",
    "    @jax.jit\n",
    "    def helper(keys, batch):\n",
    "        compute_one_features = new_all_features(loss, params)\n",
    "        @jax.jit\n",
    "        def f(carry, point):\n",
    "            return carry, compute_one_features(keys, point)\n",
    "        _, res = jax.lax.scan(f, None, batch)\n",
    "        return res\n",
    "    return helper\n",
    "\n",
    "def get_keys(seq, num_keys):\n",
    "    return jnp.array([next(seq) for i in range(num_keys)])"
   ]
  },
  {
   "cell_type": "markdown",
   "id": "13e704e6",
   "metadata": {},
   "source": [
    "## Try with different number of features"
   ]
  },
  {
   "cell_type": "code",
   "execution_count": 50,
   "id": "d81e8517",
   "metadata": {},
   "outputs": [],
   "source": [
    "# jit\n",
    "func = all_points_in_batch(loss, params)\n",
    "seq = hk.PRNGSequence(42)\n",
    "def get_keys(seq, num_keys):\n",
    "    return jnp.array([next(seq) for i in range(num_keys)])\n",
    "keys = get_keys(seq, 200)"
   ]
  },
  {
   "cell_type": "code",
   "execution_count": 51,
   "id": "e28d2f66",
   "metadata": {},
   "outputs": [
    {
     "name": "stdout",
     "output_type": "stream",
     "text": [
      "758554\n"
     ]
    }
   ],
   "source": [
    "compute_final_features = all_points_in_batch(loss, params)\n",
    "final_features = compute_final_features(keys, batch)"
   ]
  },
  {
   "cell_type": "code",
   "execution_count": 52,
   "id": "c545c10c",
   "metadata": {},
   "outputs": [],
   "source": [
    "final_features = final_features*jnp.sqrt(1./200)"
   ]
  },
  {
   "cell_type": "code",
   "execution_count": 53,
   "id": "7cf4e2fc",
   "metadata": {},
   "outputs": [
    {
     "name": "stdout",
     "output_type": "stream",
     "text": [
      "[[ 7.  12.  13.  10.5 12.   4.5 10.5  9.  11.  10.5]\n",
      " [12.  12.   9.5 14.  12.   6.   9.  11.5 16.5 12.5]\n",
      " [13.   9.5  6.   8.5 11.5 11.   6.5 12.  13.5 12.5]\n",
      " [10.5 14.   8.5 16.   7.   8.   9.5 13.   7.  12.5]\n",
      " [12.  12.  11.5  7.   9.   9.   5.  13.  11.5  9.5]\n",
      " [ 4.5  6.  11.   8.   9.   4.   6.   5.5  7.5  8.5]\n",
      " [10.5  9.   6.5  9.5  5.   6.   6.  11.   9.5 10. ]\n",
      " [ 9.  11.5 12.  13.  13.   5.5 11.  14.  10.  13. ]\n",
      " [11.  16.5 13.5  7.  11.5  7.5  9.5 10.   7.   8. ]\n",
      " [10.5 12.5 12.5 12.5  9.5  8.5 10.  13.   8.  12. ]]\n"
     ]
    }
   ],
   "source": [
    "distances = avg_sim(final_features, batch['label'], list(range(10)), hk.PRNGSequence(42))"
   ]
  },
  {
   "cell_type": "code",
   "execution_count": 54,
   "id": "5a53053f",
   "metadata": {},
   "outputs": [
    {
     "data": {
      "text/plain": [
       "<matplotlib.colorbar.Colorbar at 0x7f81c0109af0>"
      ]
     },
     "execution_count": 54,
     "metadata": {},
     "output_type": "execute_result"
    },
    {
     "data": {
      "image/png": "[encoded data removed]",
      "text/plain": [
       "<Figure size 432x288 with 2 Axes>"
      ]
     },
     "metadata": {
      "needs_background": "light"
     },
     "output_type": "display_data"
    }
   ],
   "source": [
    "plt.imshow(distances)\n",
    "plt.colorbar()"
   ]
  },
  {
   "cell_type": "code",
   "execution_count": 23,
   "id": "452709c3",
   "metadata": {},
   "outputs": [],
   "source": [
    "flattened_params, _ = jax.tree_flatten(jax.grad(loss)(params, batch))"
   ]
  },
  {
   "cell_type": "code",
   "execution_count": 26,
   "id": "f55efa61",
   "metadata": {},
   "outputs": [
    {
     "data": {
      "text/plain": [
       "(758554,)"
      ]
     },
     "execution_count": 26,
     "metadata": {},
     "output_type": "execute_result"
    }
   ],
   "source": [
    "jnp.concatenate([jnp.reshape(elt, -1) for elt in flattened_params], axis=0).shape"
   ]
  },
  {
   "cell_type": "markdown",
   "id": "48c32846",
   "metadata": {},
   "source": [
    "## Old, small network to compare the two methods"
   ]
  },
  {
   "cell_type": "code",
   "execution_count": 55,
   "id": "b14b862c",
   "metadata": {},
   "outputs": [],
   "source": [
    "## Initialize deep cnn\n",
    "train, train_eval, test_eval = get_mnist_data(1000)\n",
    "batch = next(train)\n",
    "cnn, loss = network_and_loss(net_fn_cnn)\n",
    "params = cnn.init(jax.random.PRNGKey(2), next(train))"
   ]
  },
  {
   "cell_type": "code",
   "execution_count": 56,
   "id": "a5438374",
   "metadata": {},
   "outputs": [],
   "source": [
    "og_features = ptwise_grads(loss)(params, batch)"
   ]
  },
  {
   "cell_type": "code",
   "execution_count": 58,
   "id": "a039cc82",
   "metadata": {},
   "outputs": [],
   "source": [
    "flattened = ravel_pytree(og_features)"
   ]
  },
  {
   "cell_type": "code",
   "execution_count": 60,
   "id": "16bd1cd3",
   "metadata": {},
   "outputs": [
    {
     "data": {
      "text/plain": [
       "(1000, 53002)"
      ]
     },
     "execution_count": 60,
     "metadata": {},
     "output_type": "execute_result"
    }
   ],
   "source": [
    "flattened.shape"
   ]
  },
  {
   "cell_type": "code",
   "execution_count": 61,
   "id": "a07d9674",
   "metadata": {},
   "outputs": [
    {
     "name": "stdout",
     "output_type": "stream",
     "text": [
      "[[ 7.  12.  13.  10.5 12.   4.5 10.5  9.  11.  10.5]\n",
      " [12.  12.   9.5 14.  12.   6.   9.  11.5 16.5 12.5]\n",
      " [13.   9.5  6.   8.5 11.5 11.   6.5 12.  13.5 12.5]\n",
      " [10.5 14.   8.5 16.   7.   8.   9.5 13.   7.  12.5]\n",
      " [12.  12.  11.5  7.   9.   9.   5.  13.  11.5  9.5]\n",
      " [ 4.5  6.  11.   8.   9.   4.   6.   5.5  7.5  8.5]\n",
      " [10.5  9.   6.5  9.5  5.   6.   6.  11.   9.5 10. ]\n",
      " [ 9.  11.5 12.  13.  13.   5.5 11.  14.  10.  13. ]\n",
      " [11.  16.5 13.5  7.  11.5  7.5  9.5 10.   7.   8. ]\n",
      " [10.5 12.5 12.5 12.5  9.5  8.5 10.  13.   8.  12. ]]\n"
     ]
    }
   ],
   "source": [
    "distances = avg_sim(flattened, batch['label'], list(range(10)), hk.PRNGSequence(42))"
   ]
  },
  {
   "cell_type": "code",
   "execution_count": 62,
   "id": "898aae12",
   "metadata": {},
   "outputs": [
    {
     "data": {
      "text/plain": [
       "<matplotlib.colorbar.Colorbar at 0x7f815420a0a0>"
      ]
     },
     "execution_count": 62,
     "metadata": {},
     "output_type": "execute_result"
    },
    {
     "data": {
      "image/png": "[encoded data removed]",
      "text/plain": [
       "<Figure size 432x288 with 2 Axes>"
      ]
     },
     "metadata": {
      "needs_background": "light"
     },
     "output_type": "display_data"
    }
   ],
   "source": [
    "plt.imshow(distances)\n",
    "plt.colorbar()"
   ]
  },
  {
   "cell_type": "code",
   "execution_count": 63,
   "id": "405e2c70",
   "metadata": {},
   "outputs": [],
   "source": [
    "func = all_points_in_batch(loss, params)\n",
    "seq = hk.PRNGSequence(42)\n",
    "keys = get_keys(seq, 200)"
   ]
  },
  {
   "cell_type": "code",
   "execution_count": 64,
   "id": "22f1e88b",
   "metadata": {},
   "outputs": [
    {
     "name": "stdout",
     "output_type": "stream",
     "text": [
      "53002\n"
     ]
    }
   ],
   "source": [
    "compute_final_features = all_points_in_batch(loss, params)\n",
    "final_features = compute_final_features(keys, batch)"
   ]
  },
  {
   "cell_type": "code",
   "execution_count": 67,
   "id": "bfed2892",
   "metadata": {},
   "outputs": [
    {
     "name": "stdout",
     "output_type": "stream",
     "text": [
      "[[ 7.  12.  13.  10.5 12.   4.5 10.5  9.  11.  10.5]\n",
      " [12.  12.   9.5 14.  12.   6.   9.  11.5 16.5 12.5]\n",
      " [13.   9.5  6.   8.5 11.5 11.   6.5 12.  13.5 12.5]\n",
      " [10.5 14.   8.5 16.   7.   8.   9.5 13.   7.  12.5]\n",
      " [12.  12.  11.5  7.   9.   9.   5.  13.  11.5  9.5]\n",
      " [ 4.5  6.  11.   8.   9.   4.   6.   5.5  7.5  8.5]\n",
      " [10.5  9.   6.5  9.5  5.   6.   6.  11.   9.5 10. ]\n",
      " [ 9.  11.5 12.  13.  13.   5.5 11.  14.  10.  13. ]\n",
      " [11.  16.5 13.5  7.  11.5  7.5  9.5 10.   7.   8. ]\n",
      " [10.5 12.5 12.5 12.5  9.5  8.5 10.  13.   8.  12. ]]\n"
     ]
    }
   ],
   "source": [
    "distances = avg_sim(jnp.sqrt(1./200)*final_features, batch['label'], list(range(10)), hk.PRNGSequence(42))"
   ]
  },
  {
   "cell_type": "code",
   "execution_count": 68,
   "id": "fd358dea",
   "metadata": {},
   "outputs": [
    {
     "data": {
      "text/plain": [
       "<matplotlib.colorbar.Colorbar at 0x7f813c78c8e0>"
      ]
     },
     "execution_count": 68,
     "metadata": {},
     "output_type": "execute_result"
    },
    {
     "data": {
      "image/png": "[encoded data removed]",
      "text/plain": [
       "<Figure size 432x288 with 2 Axes>"
      ]
     },
     "metadata": {
      "needs_background": "light"
     },
     "output_type": "display_data"
    }
   ],
   "source": [
    "plt.imshow(distances)\n",
    "plt.colorbar()"
   ]
  },
  {
   "cell_type": "markdown",
   "id": "9b8ddfb5",
   "metadata": {},
   "source": [
    "What's good about the above is that the magnitudes of the \"reduced\" inner products match the magnitudes of the \"true\" ones. Next, we follow Robert's suggestion and compute the variance between the inner products.\n",
    "\n",
    "To compute the variance, we will do the following:\n",
    "- compute the gradient features (batch_size x num_params)\n",
    "- compute the reduced dimension features (bath_size x dim)\n",
    "- compute pairwise inner products for both (batch_size x batch_size)\n",
    "- take the difference between these two matrices and calculate mean and variance"
   ]
  },
  {
   "cell_type": "markdown",
   "id": "9e558c58",
   "metadata": {},
   "source": [
    "### Compute true gradient features"
   ]
  },
  {
   "cell_type": "code",
   "execution_count": 10,
   "id": "92a82473",
   "metadata": {},
   "outputs": [],
   "source": [
    "train, train_eval, test_eval = get_mnist_data(1000)\n",
    "batch = next(train)\n",
    "cnn, loss = network_and_loss(net_fn_cnn)\n",
    "params = cnn.init(jax.random.PRNGKey(2), next(train))"
   ]
  },
  {
   "cell_type": "code",
   "execution_count": 11,
   "id": "841fdea7",
   "metadata": {},
   "outputs": [
    {
     "data": {
      "text/plain": [
       "(1000, 53002)"
      ]
     },
     "execution_count": 11,
     "metadata": {},
     "output_type": "execute_result"
    }
   ],
   "source": [
    "og_features = ptwise_grads(loss)(params, batch)\n",
    "flattened = ravel_pytree(og_features)\n",
    "flattened.shape"
   ]
  },
  {
   "cell_type": "markdown",
   "id": "8798cc1f",
   "metadata": {},
   "source": [
    "### Compute reduced dimension features (200, 500, 1000)"
   ]
  },
  {
   "cell_type": "code",
   "execution_count": 44,
   "id": "adf38091",
   "metadata": {},
   "outputs": [],
   "source": [
    "compute_final_features = all_points_in_batch(loss, params)\n",
    "\n",
    "\n",
    "seq = hk.PRNGSequence(24)\n",
    "small_keys = get_keys(seq, 200)\n",
    "med_keys = get_keys(seq, 500)\n",
    "large_keys = get_keys(seq, 1000)"
   ]
  },
  {
   "cell_type": "code",
   "execution_count": 45,
   "id": "041af219",
   "metadata": {},
   "outputs": [
    {
     "name": "stdout",
     "output_type": "stream",
     "text": [
      "53002\n",
      "53002\n",
      "53002\n"
     ]
    }
   ],
   "source": [
    "small_final_features = jnp.sqrt(1./200)*compute_final_features(small_keys, batch)\n",
    "med_final_features = jnp.sqrt(1./500)*compute_final_features(med_keys, batch)\n",
    "large_final_features = jnp.sqrt(1./1000)*compute_final_features(large_keys, batch)"
   ]
  },
  {
   "cell_type": "markdown",
   "id": "f986db8d",
   "metadata": {},
   "source": [
    "### Compute pairwise inner products for both sets of features"
   ]
  },
  {
   "cell_type": "code",
   "execution_count": 26,
   "id": "f9a598d7",
   "metadata": {},
   "outputs": [],
   "source": [
    "def inner(x, y):\n",
    "    return jnp.dot(x,y)\n",
    "\n",
    "temp = jax.vmap(inner, in_axes=(0, None))\n",
    "pairwise_products = jax.vmap(test, in_axes=(None, 0), out_axes=1)"
   ]
  },
  {
   "cell_type": "code",
   "execution_count": 46,
   "id": "f48961d1",
   "metadata": {},
   "outputs": [],
   "source": [
    "og_pairwise = pairwise_products(flattened, flattened)\n",
    "small_pairwise = pairwise_products(small_final_features, small_final_features)\n",
    "med_pairwise = pairwise_products(med_final_features, med_final_features)\n",
    "large_pairwise = pairwise_products(large_final_features, large_final_features)\n",
    "\n",
    "small_diffs = small_pairwise - og_pairwise\n",
    "med_diffs = med_pairwise - og_pairwise\n",
    "large_diffs = large_pairwise - og_pairwise"
   ]
  },
  {
   "cell_type": "markdown",
   "id": "5968c9ca",
   "metadata": {},
   "source": [
    "### Compute mean and variance"
   ]
  },
  {
   "cell_type": "code",
   "execution_count": 68,
   "id": "12b908bd",
   "metadata": {},
   "outputs": [
    {
     "name": "stdout",
     "output_type": "stream",
     "text": [
      "Max: 496.9286193847656, Min: -91.12599182128906\n",
      "Median: -12.06199836730957\n",
      "Mean: 28.586336135864258\n"
     ]
    }
   ],
   "source": [
    "# for reference: the \"true\" pairwise products are stored in \"og_pairwise\"\n",
    "print(\"Max: {}, Min: {}\".format(jnp.max(og_pairwise), jnp.min(og_pairwise)))\n",
    "print(\"Median: {}\".format(jnp.median(og_pairwise)))\n",
    "print(\"Mean: {}\".format(jnp.mean(jnp.abs(og_pairwise))))"
   ]
  },
  {
   "cell_type": "code",
   "execution_count": 66,
   "id": "a652c102",
   "metadata": {
    "collapsed": true
   },
   "outputs": [
    {
     "name": "stdout",
     "output_type": "stream",
     "text": [
      "[1 7 2 7 6 1 1 3 3 3 2 7 3 2 1 7 3 3 5 6 9 1 3 4 9 5 5 2 7 3 6 7 4 7 8 0 3\n",
      " 1 4 8 9 5 4 2 1 4 3 6 2 8 4 1 4 8 8 2 0 7 3 0 6 4 8 1 3 3 5 1 6 9 5 0 2 0\n",
      " 2 8 5 2 8 3 5 1 7 9 3 1 7 6 0 9 8 7 2 7 7 2 1 7 0 6 0 1 6 1 2 8 0 8 5 6 0\n",
      " 4 9 6 3 3 6 4 3 9 9 9 1 2 3 4 9 1 9 0 2 6 4 4 0 8 8 1 3 4 6 0 7 9 3 9 2 4\n",
      " 7 5 9 1 8 4 4 3 3 7 2 0 0 6 3 9 6 7 6 1 8 1 6 6 2 1 7 1 0 7 2 4 4 8 5 3 9\n",
      " 3 1 9 6 8 5 7 4 5 2 8 1 3 0 2 7 1 4 7 2 7 4 2 4 7 0 0 4 7 6 1 3 2 1 6 6 1\n",
      " 9 6 0 7 1 5 3 1 2 1 8 2 8 2 0 3 5 5 7 2 9 6 6 8 7 6 3 5 3 5 4 0 2 8 0 8 9\n",
      " 0 7 6 0 4 2 6 4 7 0 3 1 7 7 0 2 7 2 0 3 0 0 5 4 3 0 0 3 3 1 3 0 0 3 3 9 9\n",
      " 8 9 5 0 5 6 2 1 4 1 4 7 6 3 2 1 2 0 2 6 5 2 4 8 8 4 9 3 1 7 6 9 0 6 9 7 5\n",
      " 0 5 7 5 2 2 5 5 9 1 9 9 6 7 9 3 7 0 9 9 5 9 0 4 8 0 2 4 7 7 9 6 0 7 3 8 3\n",
      " 4 4 7 8 7 3 4 3 1 8 9 8 9 0 1 4 8 0 8 8 9 8 1 6 6 2 0 9 4 0 5 3 8 6 8 9 8\n",
      " 5 3 6 3 0 3 6 3 9 3 6 2 6 1 3 6 6 2 3 1 0 6 5 6 7 7 9 2 7 9 4 4 0 4 8 7 2\n",
      " 4 6 8 2 1 5 8 2 5 3 2 8 4 3 2 6 8 9 2 8 3 8 2 5 0 4 6 4 1 0 6 1 9 1 8 8 2\n",
      " 5 3 4 1 1 3 1 7 6 0 5 2 4 6 9 3 4 8 9 1 5 8 7 3 2 4 4 6 1 3 1 5 1 7 6 7 6\n",
      " 9 7 0 5 3 4 3 6 9 9 1 2 6 7 7 7 4 7 7 8 8 2 4 2 3 2 2 2 0 1 1 4 8 4 9 6 6\n",
      " 2 8 2 9 5 0 9 5 8 2 7 5 1 5 9 8 7 1 1 9 7 4 2 3 8 1 7 2 2 2 9 1 7 7 7 1 9\n",
      " 7 2 1 9 0 4 8 9 0 9 1 7 1 2 8 8 5 7 3 5 7 9 5 8 7 8 8 9 8 5 9 7 5 1 8 1 1\n",
      " 3 6 6 1 0 4 4 1 1 7 5 2 7 4 1 3 6 8 4 7 0 1 1 7 4 1 6 3 3 0 1 0 6 1 2 5 9\n",
      " 6 8 0 5 7 1 0 3 9 5 8 0 9 9 1 8 1 3 8 4 5 7 9 6 7 5 0 4 8 0 1 0 1 8 9 9 0\n",
      " 3 8 8 6 1 5 9 8 0 7 3 4 3 4 5 6 9 6 9 0 9 0 1 1 9 9 3 0 5 4 9 3 1 0 1 7 8\n",
      " 5 3 1 3 6 0 6 7 7 8 6 2 3 4 4 8 9 2 7 5 7 9 5 6 9 1 2 5 8 3 8 2 9 1 4 2 9\n",
      " 7 9 8 9 7 3 0 7 9 1 1 3 4 9 9 8 9 5 5 0 3 5 1 6 4 2 9 8 4 2 0 2 7 7 2 1 1\n",
      " 4 4 1 8 4 1 6 7 9 0 6 2 4 6 7 3 3 7 0 8 9 2 4 5 3 3 4 4 7 6 9 8 5 5 7 7 7\n",
      " 0 7 7 2 6 0 2 1 7 1 1 8 2 3 1 0 5 3 5 5 2 5 1 8 5 2 2 7 0 3 3 0 8 5 5 7 4\n",
      " 3 8 1 2 1 9 2 1 5 4 8 8 3 0 0 4 3 7 0 3 1 7 9 8 6 0 5 3 7 7 4 8 3 1 9 0 4\n",
      " 3 7 2 7 5 0 4 3 7 6 2 0 8 0 7 0 8 7 1 0 4 8 4 2 0 7 6 2 0 9 0 4 1 7 6 6 3\n",
      " 1 0 3 4 4 2 6 7 1 9 2 4 5 9 3 8 8 7 1 6 8 1 4 7 8 9 8 9 4 8 6 3 4 6 7 0 6\n",
      " 7]\n"
     ]
    },
    {
     "data": {
      "text/plain": [
       "DeviceArray(168.765, dtype=float32)"
      ]
     },
     "execution_count": 66,
     "metadata": {},
     "output_type": "execute_result"
    }
   ],
   "source": [
    "print(batch['label'])\n",
    "og_pairwise[34][39]"
   ]
  },
  {
   "cell_type": "markdown",
   "id": "b431ad83",
   "metadata": {},
   "source": [
    "200 features"
   ]
  },
  {
   "cell_type": "code",
   "execution_count": 49,
   "id": "26f9bd08",
   "metadata": {},
   "outputs": [
    {
     "name": "stdout",
     "output_type": "stream",
     "text": [
      "Mean: 0.18189573287963867\n",
      "Variance: 246.5001983642578\n",
      "Std dev: 15.700325012207031\n"
     ]
    }
   ],
   "source": [
    "print(\"Mean: {}\".format(jnp.mean(small_diffs)))\n",
    "print(\"Variance: {}\".format(jnp.var(small_diffs)))\n",
    "print(\"Std dev: {}\".format(jnp.std(small_diffs)))"
   ]
  },
  {
   "cell_type": "markdown",
   "id": "bd7537df",
   "metadata": {},
   "source": [
    "500 features"
   ]
  },
  {
   "cell_type": "code",
   "execution_count": 50,
   "id": "34f0b2c8",
   "metadata": {
    "scrolled": true
   },
   "outputs": [
    {
     "name": "stdout",
     "output_type": "stream",
     "text": [
      "Mean: -0.0737052783370018\n",
      "Variance: 112.04792022705078\n",
      "Std dev: 10.585269927978516\n"
     ]
    }
   ],
   "source": [
    "print(\"Mean: {}\".format(jnp.mean(med_diffs)))\n",
    "print(\"Variance: {}\".format(jnp.var(med_diffs)))\n",
    "print(\"Std dev: {}\".format(jnp.std(med_diffs)))"
   ]
  },
  {
   "cell_type": "markdown",
   "id": "1613aed4",
   "metadata": {},
   "source": [
    "1000 features"
   ]
  },
  {
   "cell_type": "code",
   "execution_count": 51,
   "id": "d8ed944d",
   "metadata": {},
   "outputs": [
    {
     "name": "stdout",
     "output_type": "stream",
     "text": [
      "Mean: -0.02094210684299469\n",
      "Variance: 48.74789810180664\n",
      "Std dev: 6.981969356536865\n"
     ]
    }
   ],
   "source": [
    "print(\"Mean: {}\".format(jnp.mean(large_diffs)))\n",
    "print(\"Variance: {}\".format(jnp.var(large_diffs)))\n",
    "print(\"Std dev: {}\".format(jnp.std(large_diffs)))"
   ]
  },
  {
   "cell_type": "code",
   "execution_count": null,
   "id": "681493d1",
   "metadata": {},
   "outputs": [],
   "source": []
  }
 ],
 "metadata": {
  "kernelspec": {
   "display_name": "Python 3",
   "language": "python",
   "name": "python3"
  },
  "language_info": {
   "codemirror_mode": {
    "name": "ipython",
    "version": 3
   },
   "file_extension": ".py",
   "mimetype": "text/x-python",
   "name": "python",
   "nbconvert_exporter": "python",
   "pygments_lexer": "ipython3",
   "version": "3.8.8"
  }
 },
 "nbformat": 4,
 "nbformat_minor": 5
}
