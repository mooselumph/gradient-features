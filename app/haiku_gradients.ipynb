{
 "cells": [
  {
   "cell_type": "markdown",
   "id": "975ac9c0",
   "metadata": {},
   "source": [
    "# Imports"
   ]
  },
  {
   "cell_type": "code",
   "execution_count": 1,
   "id": "01342bc5",
   "metadata": {},
   "outputs": [
    {
     "name": "stdout",
     "output_type": "stream",
     "text": [
      "env: CUDA_VISIBLE_DEVICES=0\n"
     ]
    },
    {
     "name": "stderr",
     "output_type": "stream",
     "text": [
      "Matplotlib created a temporary config/cache directory at /tmp/matplotlib-mmfdipku because the default path (/home/jovyan/.cache/matplotlib) is not a writable directory; it is highly recommended to set the MPLCONFIGDIR environment variable to a writable directory, in particular to speed up the import of Matplotlib and to better support multiprocessing.\n"
     ]
    }
   ],
   "source": [
    "%env CUDA_VISIBLE_DEVICES=0\n",
    "\n",
    "import jax.numpy as jnp\n",
    "from jax import grad, jit, vmap\n",
    "from jax import random\n",
    "\n",
    "from typing import Generator, Mapping, Tuple\n",
    "\n",
    "from absl import app\n",
    "import haiku as hk\n",
    "import jax\n",
    "import jax.numpy as jnp\n",
    "import numpy as np\n",
    "import optax\n",
    "import tensorflow_datasets as tfds\n",
    "import functools\n",
    "import matplotlib.pyplot as plt\n",
    "Batch = Mapping[str, np.ndarray]"
   ]
  },
  {
   "cell_type": "markdown",
   "id": "020fc776",
   "metadata": {},
   "source": [
    "# Functions"
   ]
  },
  {
   "cell_type": "markdown",
   "id": "84d8e261",
   "metadata": {},
   "source": [
    "## General"
   ]
  },
  {
   "cell_type": "code",
   "execution_count": 2,
   "id": "dd92f1bc",
   "metadata": {},
   "outputs": [],
   "source": [
    "def load_dataset(dataset: str, split: str, *, is_training: bool, \n",
    "                 batch_size: int) -> Generator[Batch, None, None]:\n",
    "\n",
    "    if dataset == \"cifar10\":\n",
    "        ds = tfds.load(\"cifar10\", split=split).cache().repeat()\n",
    "    elif dataset == \"mnist\":\n",
    "        ds = tfds.load(\"mnist:3.*.*\", split=split).cache().repeat()\n",
    "    else:\n",
    "        raise Exception(\"Invalid Dataset\")\n",
    "    if is_training:\n",
    "        ds = ds.shuffle(10 * batch_size, seed=0)\n",
    "    ds = ds.batch(batch_size)\n",
    "    return iter(tfds.as_numpy(ds))\n",
    "\n",
    "\n",
    "\n",
    "def softmax_xent_loss(net):\n",
    "    \"\"\"\n",
    "    Params:\n",
    "        net: network function (with apply and init funcs)\n",
    "    \n",
    "    Returns:\n",
    "        loss_fn: function(params, batch) --> loss\n",
    "        \n",
    "    Creates softmax cross entropy loss function for a given network\n",
    "    \"\"\"\n",
    "    def loss(params, batch):\n",
    "        logits = net.apply(params, batch)\n",
    "        labels = jax.nn.one_hot(batch[\"label\"], 10)\n",
    "\n",
    "        l2_loss = 0.5 * sum(jnp.sum(jnp.square(p)) for p in jax.tree_leaves(params))\n",
    "        softmax_xent = -jnp.sum(labels * jax.nn.log_softmax(logits))\n",
    "        softmax_xent /= labels.shape[0]\n",
    "\n",
    "        return softmax_xent + 1e-4 * l2_loss\n",
    "    \n",
    "    return loss \n",
    "\n",
    "\n",
    "def ptwise_grads(loss_fn):\n",
    "    \"\"\"\n",
    "    Params:\n",
    "        loss_fn: function(params, batch) --> loss \n",
    "    \n",
    "    Returns:\n",
    "        function(params, batch) --> pointwise gradients\n",
    "    \n",
    "    \"\"\"\n",
    "    def helper(params, batch):\n",
    "        batch['image'] = jnp.expand_dims(batch['image'], axis=0)\n",
    "        batch['label'] = jnp.expand_dims(batch['label'], axis=0)\n",
    "        return jax.grad(loss_fn)(params, batch)\n",
    "    \n",
    "    return jax.vmap(helper, in_axes=(None, {'image': 0, 'label': 0}), out_axes=0)\n",
    "\n",
    "\n",
    "# Returns both network and loss given net function so as to not mistakenly use incompatible functions\n",
    "def network_and_loss(net_fn, rng=False):\n",
    "    if not rng:\n",
    "        net = hk.without_apply_rng(hk.transform(net_fn))\n",
    "    else:\n",
    "        net = hk.transform(net_fn)\n",
    "        \n",
    "    loss_fn = softmax_xent_loss(net)\n",
    "    \n",
    "    return net, loss_fn\n",
    "    \n",
    "    \n",
    "    \n",
    "    \n"
   ]
  },
  {
   "cell_type": "markdown",
   "id": "feef5c0c",
   "metadata": {},
   "source": [
    "## Network Architectures"
   ]
  },
  {
   "cell_type": "code",
   "execution_count": 3,
   "id": "7fcaf871",
   "metadata": {},
   "outputs": [],
   "source": [
    "def net_fn(batch: Batch) -> jnp.ndarray:\n",
    "    \"\"\"Standard LeNet-300-100 MLP network.\"\"\"\n",
    "    x = batch[\"image\"].astype(jnp.float32) / 255.\n",
    "    mlp = hk.Sequential([\n",
    "      hk.Flatten(),\n",
    "      hk.Linear(300), jax.nn.relu,\n",
    "      hk.Linear(100), jax.nn.relu,\n",
    "      hk.Linear(10),\n",
    "    ])\n",
    "    return mlp(x)\n",
    "\n",
    "\n",
    "def net_fn_cnn(batch: jnp.ndarray) -> jnp.ndarray:\n",
    "    \"\"\"Standard LeNet-300-100 MLP network.\"\"\"\n",
    "    x = batch[\"image\"].astype(jnp.float32) / 255.\n",
    "    cnn = hk.Sequential([\n",
    "      hk.Conv2D(24,5),\n",
    "      hk.MaxPool(window_shape=2, strides=2, padding=\"VALID\", channel_axis=- 1, name=None),\n",
    "      hk.Conv2D(48,5),\n",
    "      hk.MaxPool(window_shape=2, strides=2, padding=\"VALID\", channel_axis=- 1, name=None),\n",
    "      hk.Flatten(),\n",
    "      hk.Linear(10),\n",
    "    ])\n",
    "    return cnn(x)"
   ]
  },
  {
   "cell_type": "markdown",
   "id": "02716b4d",
   "metadata": {},
   "source": [
    "## Training"
   ]
  },
  {
   "cell_type": "code",
   "execution_count": 4,
   "id": "3c71e82f",
   "metadata": {},
   "outputs": [],
   "source": [
    "def net_accuracy(net):  \n",
    "    @jax.jit\n",
    "    def accuracy(params: hk.Params, batch: Batch) -> jnp.ndarray:\n",
    "        predictions = net.apply(params, batch)\n",
    "        return jnp.mean(jnp.argmax(predictions, axis=-1) == batch[\"label\"])\n",
    "    return accuracy\n",
    "\n",
    "\n",
    "\n",
    "def update_params(loss_fn):   \n",
    "    @jax.jit\n",
    "    def update(\n",
    "      params: hk.Params,\n",
    "      opt_state: optax.OptState,\n",
    "      batch: Batch,\n",
    "    ) -> Tuple[hk.Params, optax.OptState]:\n",
    "        grads = jax.grad(loss_fn)(params, batch)\n",
    "        updates, opt_state = opt.update(grads, opt_state)\n",
    "        new_params = optax.apply_updates(params, updates)\n",
    "        return new_params, opt_state\n",
    "    return update\n",
    "\n",
    "# We maintain avg_params, the exponential moving average of the \"live\" params.\n",
    "# avg_params is used only for evaluation (cf. https://doi.org/10.1137/0330046)\n",
    "@jax.jit\n",
    "def ema_update(params, avg_params):\n",
    "    return optax.incremental_update(params, avg_params, step_size=0.001)\n",
    "\n",
    "def do_training(net, loss_fn, params, opt_state, train, train_eval, test_eval, epochs=10001, print_epoch=1000):\n",
    "\n",
    "    accuracy = net_accuracy(net)\n",
    "    update = update_params(loss_fn)\n",
    "    avg_params = params\n",
    "    \n",
    "    # Train/eval loop.\n",
    "    for step in range(epochs):\n",
    "        if step % print_epoch == 0:\n",
    "            # Periodically evaluate classification accuracy on train & test sets.\n",
    "            train_accuracy = accuracy(avg_params, next(train_eval))\n",
    "            test_accuracy = accuracy(avg_params, next(test_eval))\n",
    "            train_accuracy, test_accuracy = jax.device_get(\n",
    "              (train_accuracy, test_accuracy))\n",
    "            print(f\"[Step {step}] Train / Test accuracy: \"\n",
    "                f\"{train_accuracy:.3f} / {test_accuracy:.3f}.\")\n",
    "\n",
    "        # Do SGD on a batch of training examples.\n",
    "        params, opt_state = update(params, opt_state, next(train))\n",
    "        avg_params = ema_update(params, avg_params)\n",
    "    \n",
    "    return avg_params"
   ]
  },
  {
   "cell_type": "markdown",
   "id": "176bb2e8",
   "metadata": {},
   "source": [
    "## Compute Distances"
   ]
  },
  {
   "cell_type": "code",
   "execution_count": 5,
   "id": "fe218237",
   "metadata": {},
   "outputs": [],
   "source": [
    "def ravel_pytree(pytree):\n",
    "    leaves, treedef = jax.tree_flatten(pytree)\n",
    "    batch_size = leaves[0].shape[0]\n",
    "    return jnp.concatenate([jnp.reshape(elt,(batch_size,-1)) for elt in leaves],axis=1)\n",
    "\n",
    "def avg_sim(features,labels,classes,seq,num_iters=1000):\n",
    "    \n",
    "    n_classes = len(classes)\n",
    "    counts = np.zeros(shape=(n_classes,n_classes))\n",
    "    totals = np.zeros(shape=(n_classes,n_classes))\n",
    "    \n",
    "    batch_size = features.shape[0]\n",
    "    \n",
    "    for _ in range(num_iters):\n",
    "    \n",
    "        \n",
    "        # sample two points, dot them\n",
    "        [i,j]  = random.choice(next(seq),np.arange(batch_size),shape=(2,),replace=False)\n",
    "        prod = jnp.dot(features[i],features[j])\n",
    "        \n",
    "        indi = classes.index(labels[i])\n",
    "        indj = classes.index(labels[j])\n",
    "        \n",
    "        totals[indi,indj] += prod\n",
    "        counts[indi,indj] += 1\n",
    "    \n",
    "    totals = (totals + totals.T)/2\n",
    "    counts = (counts + counts.T)/2\n",
    "    \n",
    "\n",
    "    return totals/counts"
   ]
  },
  {
   "cell_type": "markdown",
   "id": "2ef97793",
   "metadata": {},
   "source": [
    "# Do Stuff"
   ]
  },
  {
   "cell_type": "markdown",
   "id": "b6c5c063",
   "metadata": {},
   "source": [
    "# Training loop"
   ]
  },
  {
   "cell_type": "code",
   "execution_count": 6,
   "id": "a4204a80",
   "metadata": {},
   "outputs": [
    {
     "name": "stdout",
     "output_type": "stream",
     "text": [
      "[Step 0] Train / Test accuracy: 0.094 / 0.095.\n",
      "[Step 1000] Train / Test accuracy: 0.985 / 0.982.\n",
      "[Step 2000] Train / Test accuracy: 0.996 / 0.990.\n",
      "[Step 3000] Train / Test accuracy: 0.999 / 0.990.\n"
     ]
    }
   ],
   "source": [
    "# load mnist data\n",
    "train = load_dataset(\"mnist\", \"train\", is_training=True, batch_size=1000)\n",
    "train_eval = load_dataset(\"mnist\", \"train\", is_training=False, batch_size=10000)\n",
    "test_eval = load_dataset(\"mnist\", \"test\", is_training=False, batch_size=10000)\n",
    "\n",
    "# cnn, loss, params\n",
    "cnn, xent_loss = network_and_loss(net_fn_cnn)\n",
    "params = cnn.init(jax.random.PRNGKey(42), next(train))\n",
    "\n",
    "# optimization of network\n",
    "opt = optax.adam(1e-3)\n",
    "opt_state = opt.init(params)\n",
    "\n",
    "# train cnn\n",
    "final_params = do_training(cnn, xent_loss, params, opt_state, train, train_eval, test_eval, epochs=3001)"
   ]
  },
  {
   "cell_type": "markdown",
   "id": "af18261d",
   "metadata": {},
   "source": [
    "## Gradient distances"
   ]
  },
  {
   "cell_type": "code",
   "execution_count": 7,
   "id": "da7c8dcb",
   "metadata": {},
   "outputs": [],
   "source": [
    "# single, constant batch for replicable results\n",
    "train = load_dataset(\"mnist\", \"train\", is_training=True, batch_size=1000)\n",
    "batch = next(train)"
   ]
  },
  {
   "cell_type": "code",
   "execution_count": 8,
   "id": "36850528",
   "metadata": {},
   "outputs": [],
   "source": [
    "# compute the pointwise gradients at initial and final params\n",
    "compute_pointwise_grads = ptwise_grads(xent_loss)\n",
    "initial_pointwise_grads = compute_pointwise_grads(params, batch)\n",
    "final_pointwise_grads = compute_pointwise_grads(final_params, batch)"
   ]
  },
  {
   "cell_type": "code",
   "execution_count": 9,
   "id": "d6464735",
   "metadata": {},
   "outputs": [],
   "source": [
    "# compute distances\n",
    "initial_distances = avg_sim(ravel_pytree(initial_pointwise_grads), batch['label'], \n",
    "                            list(range(10)), hk.PRNGSequence(42))\n",
    "final_distances = avg_sim(ravel_pytree(final_pointwise_grads), batch['label'], \n",
    "                            list(range(10)), hk.PRNGSequence(42))"
   ]
  },
  {
   "cell_type": "code",
   "execution_count": 10,
   "id": "b6e734ac",
   "metadata": {},
   "outputs": [
    {
     "data": {
      "text/plain": [
       "<matplotlib.colorbar.Colorbar at 0x7f4a3895fdc0>"
      ]
     },
     "execution_count": 10,
     "metadata": {},
     "output_type": "execute_result"
    },
    {
     "data": {
      "image/png": "[encoded data removed]",
      "text/plain": [
       "<Figure size 432x288 with 2 Axes>"
      ]
     },
     "metadata": {
      "needs_background": "light"
     },
     "output_type": "display_data"
    }
   ],
   "source": [
    "# initial distances\n",
    "plt.imshow(initial_distances)\n",
    "plt.colorbar()"
   ]
  },
  {
   "cell_type": "code",
   "execution_count": 11,
   "id": "57875b8d",
   "metadata": {},
   "outputs": [
    {
     "data": {
      "text/plain": [
       "<matplotlib.colorbar.Colorbar at 0x7f4a3880ca30>"
      ]
     },
     "execution_count": 11,
     "metadata": {},
     "output_type": "execute_result"
    },
    {
     "data": {
      "image/png": "[encoded data removed]",
      "text/plain": [
       "<Figure size 432x288 with 2 Axes>"
      ]
     },
     "metadata": {
      "needs_background": "light"
     },
     "output_type": "display_data"
    }
   ],
   "source": [
    "# final distances\n",
    "plt.imshow(final_distances)\n",
    "plt.colorbar()"
   ]
  },
  {
   "cell_type": "code",
   "execution_count": null,
   "id": "8f778825",
   "metadata": {},
   "outputs": [],
   "source": []
  }
 ],
 "metadata": {
  "kernelspec": {
   "display_name": "Python 3",
   "language": "python",
   "name": "python3"
  },
  "language_info": {
   "codemirror_mode": {
    "name": "ipython",
    "version": 3
   },
   "file_extension": ".py",
   "mimetype": "text/x-python",
   "name": "python",
   "nbconvert_exporter": "python",
   "pygments_lexer": "ipython3",
   "version": "3.8.8"
  }
 },
 "nbformat": 4,
 "nbformat_minor": 5
}
