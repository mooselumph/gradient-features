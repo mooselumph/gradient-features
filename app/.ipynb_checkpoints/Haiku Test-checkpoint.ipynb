{
 "cells": [
  {
   "cell_type": "code",
   "execution_count": 87,
   "id": "a922fb8b",
   "metadata": {},
   "outputs": [],
   "source": [
    "from typing import Generator, Mapping, Tuple\n",
    "\n",
    "from absl import app\n",
    "import haiku as hk\n",
    "import jax\n",
    "import jax.numpy as jnp\n",
    "import numpy as np\n",
    "import optax\n",
    "import tensorflow_datasets as tfds\n",
    "\n",
    "from jax.tree_util import tree_flatten, tree_unflatten"
   ]
  },
  {
   "cell_type": "markdown",
   "id": "d8bc741c",
   "metadata": {},
   "source": [
    "## Model"
   ]
  },
  {
   "cell_type": "code",
   "execution_count": 9,
   "id": "d6898a87",
   "metadata": {},
   "outputs": [],
   "source": [
    "Batch = Mapping[str, np.ndarray]\n",
    "\n",
    "\n",
    "def net_fn(batch: Batch) -> jnp.ndarray:\n",
    "  \"\"\"Standard LeNet-300-100 MLP network.\"\"\"\n",
    "  x = batch[\"image\"].astype(jnp.float32) / 255.\n",
    "  mlp = hk.Sequential([\n",
    "      hk.Flatten(),\n",
    "      hk.Linear(300), jax.nn.relu,\n",
    "      hk.Linear(100), jax.nn.relu,\n",
    "      hk.Linear(10),\n",
    "  ])\n",
    "  return mlp(x)\n",
    "\n",
    "\n",
    "def net_fn_cnn(batch: jnp.ndarray) -> jnp.ndarray:\n",
    "  \"\"\"Standard LeNet-300-100 MLP network.\"\"\"\n",
    "  x = batch[\"image\"].astype(jnp.float32) / 255.\n",
    "  cnn = hk.Sequential([\n",
    "      hk.Conv2D(24,5),\n",
    "      hk.MaxPool(window_shape=2, strides=2, padding=\"VALID\", channel_axis=- 1, name=None),\n",
    "      hk.Conv2D(48,5),\n",
    "      hk.MaxPool(window_shape=2, strides=2, padding=\"VALID\", channel_axis=- 1, name=None),\n",
    "      hk.Flatten(),\n",
    "      hk.Linear(10),\n",
    "  ])\n",
    "  return cnn(x)\n",
    "\n",
    "\n",
    "def load_dataset(\n",
    "    split: str,\n",
    "    *,\n",
    "    is_training: bool,\n",
    "    batch_size: int,\n",
    ") -> Generator[Batch, None, None]:\n",
    "  \"\"\"Loads the dataset as a generator of batches.\"\"\"\n",
    "  ds = tfds.load(\"mnist:3.*.*\", split=split).cache().repeat()\n",
    "  if is_training:\n",
    "    ds = ds.shuffle(10 * batch_size, seed=0)\n",
    "  ds = ds.batch(batch_size)\n",
    "  return iter(tfds.as_numpy(ds))\n",
    "\n",
    "# Make the network and optimiser.\n",
    "net = hk.without_apply_rng(hk.transform(net_fn_cnn))\n",
    "opt = optax.adam(1e-3)\n",
    "\n",
    "# Training loss (cross-entropy).\n",
    "def loss(params: hk.Params, batch: Batch) -> jnp.ndarray:\n",
    "    \"\"\"Compute the loss of the network, including L2.\"\"\"\n",
    "    logits = net.apply(params, batch)\n",
    "    labels = jax.nn.one_hot(batch[\"label\"], 10)\n",
    "\n",
    "    l2_loss = 0.5 * sum(jnp.sum(jnp.square(p)) for p in jax.tree_leaves(params))\n",
    "    softmax_xent = -jnp.sum(labels * jax.nn.log_softmax(logits))\n",
    "    softmax_xent /= labels.shape[0]\n",
    "\n",
    "    return softmax_xent + 1e-4 * l2_loss\n",
    "\n",
    "# Evaluation metric (classification accuracy).\n",
    "@jax.jit\n",
    "def accuracy(params: hk.Params, batch: Batch) -> jnp.ndarray:\n",
    "    predictions = net.apply(params, batch)\n",
    "    return jnp.mean(jnp.argmax(predictions, axis=-1) == batch[\"label\"])\n",
    "\n",
    "@jax.jit\n",
    "def update(\n",
    "    params: hk.Params,\n",
    "    opt_state: optax.OptState,\n",
    "    batch: Batch,\n",
    ") -> Tuple[hk.Params, optax.OptState]:\n",
    "    \"\"\"Learning rule (stochastic gradient descent).\"\"\"\n",
    "    grads = jax.grad(loss)(params, batch)\n",
    "    updates, opt_state = opt.update(grads, opt_state)\n",
    "    new_params = optax.apply_updates(params, updates)\n",
    "    return new_params, opt_state\n",
    "\n",
    "# We maintain avg_params, the exponential moving average of the \"live\" params.\n",
    "# avg_params is used only for evaluation (cf. https://doi.org/10.1137/0330046)\n",
    "@jax.jit\n",
    "def ema_update(params, avg_params):\n",
    "    return optax.incremental_update(params, avg_params, step_size=0.001)"
   ]
  },
  {
   "cell_type": "markdown",
   "id": "a1175369",
   "metadata": {},
   "source": [
    "## Train"
   ]
  },
  {
   "cell_type": "code",
   "execution_count": null,
   "id": "20ea9927",
   "metadata": {},
   "outputs": [],
   "source": [
    "# Make datasets.\n",
    "train = load_dataset(\"train\", is_training=True, batch_size=1000)\n",
    "train_eval = load_dataset(\"train\", is_training=False, batch_size=10000)\n",
    "test_eval = load_dataset(\"test\", is_training=False, batch_size=10000)"
   ]
  },
  {
   "cell_type": "code",
   "execution_count": 10,
   "id": "a9add71e",
   "metadata": {},
   "outputs": [
    {
     "name": "stdout",
     "output_type": "stream",
     "text": [
      "[Step 0] Train / Test accuracy: 0.094 / 0.095.\n",
      "[Step 1000] Train / Test accuracy: 0.985 / 0.982.\n",
      "[Step 2000] Train / Test accuracy: 0.996 / 0.989.\n",
      "[Step 3000] Train / Test accuracy: 0.999 / 0.990.\n",
      "[Step 4000] Train / Test accuracy: 1.000 / 0.990.\n",
      "[Step 5000] Train / Test accuracy: 1.000 / 0.990.\n",
      "[Step 6000] Train / Test accuracy: 1.000 / 0.990.\n",
      "[Step 7000] Train / Test accuracy: 1.000 / 0.989.\n",
      "[Step 8000] Train / Test accuracy: 1.000 / 0.989.\n",
      "[Step 9000] Train / Test accuracy: 1.000 / 0.990.\n",
      "[Step 10000] Train / Test accuracy: 1.000 / 0.989.\n"
     ]
    }
   ],
   "source": [
    "# Initialize network and optimiser; note we draw an input to get shapes.\n",
    "params = avg_params = net.init(jax.random.PRNGKey(42), next(train))\n",
    "opt_state = opt.init(params)\n",
    "\n",
    "# Train/eval loop.\n",
    "for step in range(10001):\n",
    "    if step % 1000 == 0:\n",
    "        # Periodically evaluate classification accuracy on train & test sets.\n",
    "        train_accuracy = accuracy(avg_params, next(train_eval))\n",
    "        test_accuracy = accuracy(avg_params, next(test_eval))\n",
    "        train_accuracy, test_accuracy = jax.device_get(\n",
    "          (train_accuracy, test_accuracy))\n",
    "        print(f\"[Step {step}] Train / Test accuracy: \"\n",
    "            f\"{train_accuracy:.3f} / {test_accuracy:.3f}.\")\n",
    "\n",
    "    # Do SGD on a batch of training examples.\n",
    "    params, opt_state = update(params, opt_state, next(train))\n",
    "    avg_params = ema_update(params, avg_params)\n"
   ]
  },
  {
   "cell_type": "markdown",
   "id": "b5b7e620",
   "metadata": {},
   "source": [
    "## NTK"
   ]
  },
  {
   "cell_type": "code",
   "execution_count": 11,
   "id": "cc04ba15",
   "metadata": {},
   "outputs": [],
   "source": [
    "# Make datasets.\n",
    "train = load_dataset(\"train\", is_training=True, batch_size=1000)\n",
    "train_eval = load_dataset(\"train\", is_training=False, batch_size=10000)\n",
    "test_eval = load_dataset(\"test\", is_training=False, batch_size=10000)"
   ]
  },
  {
   "cell_type": "code",
   "execution_count": 80,
   "id": "a51d4929",
   "metadata": {},
   "outputs": [],
   "source": [
    "def ptwise_loss(params, batch):\n",
    "    batch['image'] = jnp.expand_dims(batch['image'],0)\n",
    "    #batch['label'] = jnp.expand_dims(batch['label'],0)\n",
    "    return loss(params,batch)\n",
    "\n",
    "ptwise_grad = jax.vmap(jax.grad(ptwise_loss),in_axes=(None,{\"image\":0,\"label\":0}),out_axes=0)\n",
    "\n",
    "def ravel_pytree(pytree):\n",
    "    leaves, treedef = tree_flatten(grads)\n",
    "    batch_size = leaves[0].shape[0]\n",
    "    return jnp.concatenate([jnp.reshape(elt,(batch_size,-1)) for elt in leaves],axis=1)"
   ]
  },
  {
   "cell_type": "code",
   "execution_count": 120,
   "id": "76e06d56",
   "metadata": {},
   "outputs": [],
   "source": [
    "train_eval = load_dataset(\"train\", is_training=False, batch_size=1000)\n",
    "batch = next(train_eval)\n",
    "\n",
    "params = net.init(jax.random.PRNGKey(42), next(train))\n",
    "grads = ptwise_grad(params,batch)\n",
    "flat = ravel_pytree(grads)"
   ]
  },
  {
   "cell_type": "markdown",
   "id": "6c5e7b4d",
   "metadata": {},
   "source": [
    "## Estimate Expected Distance between Classes"
   ]
  },
  {
   "cell_type": "code",
   "execution_count": null,
   "id": "7f851329",
   "metadata": {},
   "outputs": [],
   "source": []
  },
  {
   "cell_type": "code",
   "execution_count": null,
   "id": "c140df30",
   "metadata": {},
   "outputs": [],
   "source": []
  },
  {
   "cell_type": "code",
   "execution_count": 114,
   "id": "030b0ba9",
   "metadata": {},
   "outputs": [
    {
     "data": {
      "text/plain": [
       "(53002,)"
      ]
     },
     "execution_count": 114,
     "metadata": {},
     "output_type": "execute_result"
    }
   ],
   "source": [
    "def ravel_list(*lst):\n",
    "    return jnp.concatenate([jnp.ravel(elt) for elt in lst]) if lst else np.array([])\n",
    "\n",
    "def ravel_pytree(pytree):\n",
    "    leaves, treedef = tree_flatten(pytree)\n",
    "    flat, unravel_list = jax.vjp(ravel_list, *leaves)\n",
    "    unravel_pytree = lambda flat: tree_unflatten(treedef, unravel_list(flat))\n",
    "    return flat, unravel_pytree\n",
    "\n",
    "\n",
    "normal_grads = jax.grad(loss)(params,batch)\n",
    "\n",
    "flat,unravel_list = ravel_pytree(normal_grads)\n",
    "\n",
    "flat.shape\n"
   ]
  }
 ],
 "metadata": {
  "kernelspec": {
   "display_name": "Python 3",
   "language": "python",
   "name": "python3"
  },
  "language_info": {
   "codemirror_mode": {
    "name": "ipython",
    "version": 3
   },
   "file_extension": ".py",
   "mimetype": "text/x-python",
   "name": "python",
   "nbconvert_exporter": "python",
   "pygments_lexer": "ipython3",
   "version": "3.8.8"
  }
 },
 "nbformat": 4,
 "nbformat_minor": 5
}
