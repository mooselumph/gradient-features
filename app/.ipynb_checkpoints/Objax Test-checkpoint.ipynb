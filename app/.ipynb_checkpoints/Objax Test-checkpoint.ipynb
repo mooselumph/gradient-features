{
 "cells": [
  {
   "cell_type": "code",
   "execution_count": 1,
   "id": "a4327961",
   "metadata": {},
   "outputs": [],
   "source": [
    "import os\n",
    "\n",
    "import numpy as np\n",
    "import tensorflow_datasets as tfds\n",
    "from tqdm import trange\n",
    "\n",
    "import objax\n",
    "from objax.util import EasyDict"
   ]
  },
  {
   "cell_type": "code",
   "execution_count": 2,
   "id": "60014fe3",
   "metadata": {},
   "outputs": [
    {
     "name": "stdout",
     "output_type": "stream",
     "text": [
      "\u001b[1mDownloading and preparing dataset 11.06 MiB (download: 11.06 MiB, generated: 21.00 MiB, total: 32.06 MiB) to /home/jovyan/TFDS/mnist/3.0.1...\u001b[0m\n"
     ]
    },
    {
     "data": {
      "application/vnd.jupyter.widget-view+json": {
       "model_id": "90c1dbbb9fec49709f55ce336e5b4127",
       "version_major": 2,
       "version_minor": 0
      },
      "text/plain": [
       "Dl Completed...:   0%|          | 0/4 [00:00<?, ? file/s]"
      ]
     },
     "metadata": {},
     "output_type": "display_data"
    },
    {
     "name": "stdout",
     "output_type": "stream",
     "text": [
      "\n",
      "\u001b[1mDataset mnist downloaded and prepared to /home/jovyan/TFDS/mnist/3.0.1. Subsequent calls will reuse this data.\u001b[0m\n"
     ]
    }
   ],
   "source": [
    "def simple_net_block(nin, nout):\n",
    "    return objax.nn.Sequential([\n",
    "        objax.nn.Conv2D(nin, nout, k=3), objax.functional.leaky_relu,\n",
    "        objax.functional.max_pool_2d,\n",
    "        objax.nn.Conv2D(nout, nout, k=3), objax.functional.leaky_relu,\n",
    "    ])\n",
    "\n",
    "\n",
    "class SimpleNet(objax.Module):\n",
    "    def __init__(self, nclass, colors, n):\n",
    "        self.pre_conv = objax.nn.Sequential([objax.nn.Conv2D(colors, n, k=3), objax.functional.leaky_relu])\n",
    "        self.block1 = simple_net_block(1 * n, 2 * n)\n",
    "        self.block2 = simple_net_block(2 * n, 4 * n)\n",
    "        self.post_conv = objax.nn.Conv2D(4 * n, nclass, k=3)\n",
    "\n",
    "    def __call__(self, x, training=False):  # x = (batch, colors, height, width)\n",
    "        y = self.pre_conv(x)\n",
    "        y = self.block1(y)\n",
    "        y = self.block2(y)\n",
    "        logits = self.post_conv(y).mean((2, 3))  # logits = (batch, nclass)\n",
    "        if training:\n",
    "            return logits\n",
    "        return objax.functional.softmax(logits)\n",
    "\n",
    "\n",
    "# Data\n",
    "DATA_DIR = os.path.join(os.environ['HOME'], 'TFDS')\n",
    "data = tfds.as_numpy(tfds.load(name='mnist', batch_size=-1, data_dir=DATA_DIR))\n",
    "train = EasyDict(image=data['train']['image'].transpose(0, 3, 1, 2) / 255, label=data['train']['label'])\n",
    "test = EasyDict(image=data['test']['image'].transpose(0, 3, 1, 2) / 255, label=data['test']['label'])\n",
    "del data\n",
    "\n",
    "\n",
    "def augment(x, shift=4):  # Shift all images in the batch by up to \"shift\" pixels in any direction.\n",
    "    x_pad = np.pad(x, [[0, 0], [0, 0], [shift, shift], [shift, shift]])\n",
    "    rx, ry = np.random.randint(0, shift, size=2)\n",
    "    return x_pad[:, :, rx:rx + 28, ry:ry + 28]\n",
    "\n",
    "# Settings\n",
    "batch = 512\n",
    "test_batch = 2048\n",
    "weight_decay = 0.0001\n",
    "epochs = 40\n",
    "lr = 0.0004 * (batch / 64)\n",
    "train_size = train.image.shape[0]\n",
    "\n",
    "# Model\n",
    "model = SimpleNet(nclass=10, colors=1, n=16)  # Use higher values of n to get higher accuracy.\n",
    "model_ema = objax.optimizer.ExponentialMovingAverageModule(model, momentum=0.999, debias=True)\n",
    "opt = objax.optimizer.Adam(model.vars())\n",
    "\n",
    "\n",
    "@objax.Function.with_vars(model.vars())\n",
    "def loss(x, y):\n",
    "    logits = model(x, training=True)\n",
    "    loss_xe = objax.functional.loss.cross_entropy_logits_sparse(logits, y).mean()\n",
    "    loss_l2 = 0.5 * sum((v.value ** 2).sum() for k, v in model.vars().items() if k.endswith('.w'))\n",
    "    return loss_xe + weight_decay * loss_l2, {'loss/xe': loss_xe, 'loss/l2': loss_l2}\n",
    "\n",
    "\n",
    "gv = objax.GradValues(loss, model.vars())\n",
    "\n",
    "\n",
    "@objax.Function.with_vars(model.vars() + gv.vars() + opt.vars() + model_ema.vars())\n",
    "def train_op(x, y):\n",
    "    g, v = gv(x, y)\n",
    "    opt(lr, g)\n",
    "    model_ema.update_ema()\n",
    "    return v\n",
    "\n",
    "\n",
    "train_op = objax.Jit(train_op)  # Compile train_op to make it run faster.\n",
    "predict = objax.Jit(model_ema)  # Compile predict to make it run faster.\n"
   ]
  },
  {
   "cell_type": "code",
   "execution_count": 12,
   "id": "0bdcd805",
   "metadata": {
    "scrolled": true
   },
   "outputs": [
    {
     "name": "stdout",
     "output_type": "stream",
     "text": [
      "[(16, 1, 1), (3, 3, 1, 16), (32, 1, 1), (3, 3, 16, 32), (32, 1, 1), (3, 3, 32, 32), (64, 1, 1), (3, 3, 32, 64), (64, 1, 1), (3, 3, 64, 64), (10, 1, 1), (3, 3, 64, 10)]\n"
     ]
    }
   ],
   "source": [
    "g = objax.Grad(loss, model.vars())\n",
    "single_gradients = objax.Vectorize(g, batch_axis=(0, 0)) \n",
    "\n",
    "\n",
    "batch = 10\n",
    "sel = np.random.randint(size=(batch,), low=0, high=train.image.shape[0])\n",
    "x = train.image[sel]\n",
    "y = train.label[sel]\n",
    "\n",
    "# Compute standard gradients\n",
    "print([v.shape for v in g(x, y)])              # [(4,), (3, 4)]\n"
   ]
  },
  {
   "cell_type": "code",
   "execution_count": 13,
   "id": "b9ae1ec7",
   "metadata": {},
   "outputs": [
    {
     "name": "stdout",
     "output_type": "stream",
     "text": [
      "[(10, 16, 1, 1), (10, 3, 3, 1, 16), (10, 32, 1, 1), (10, 3, 3, 16, 32), (10, 32, 1, 1), (10, 3, 3, 32, 32), (10, 64, 1, 1), (10, 3, 3, 32, 64), (10, 64, 1, 1), (10, 3, 3, 64, 64), (10, 10, 1, 1), (10, 3, 3, 64, 10)]\n"
     ]
    }
   ],
   "source": [
    "# Compute per batch entry gradients\n",
    "print([v.shape for v in single_gradients(np.expand_dims(x,1), np.expand_dims(y,1))])   # [(10, 4), (10, 3, 4)]"
   ]
  },
  {
   "cell_type": "code",
   "execution_count": 3,
   "id": "8ac05a26",
   "metadata": {},
   "outputs": [
    {
     "name": "stderr",
     "output_type": "stream",
     "text": [
      "\r",
      "Epoch 1/40 :   0%|          | 0/60416 [00:00<?, ?img/s]"
     ]
    },
    {
     "name": "stdout",
     "output_type": "stream",
     "text": [
      "(SimpleNet).pre_conv(Sequential)[0](Conv2D).b       16 (16, 1, 1)\n",
      "(SimpleNet).pre_conv(Sequential)[0](Conv2D).w      144 (3, 3, 1, 16)\n",
      "(SimpleNet).block1(Sequential)[0](Conv2D).b         32 (32, 1, 1)\n",
      "(SimpleNet).block1(Sequential)[0](Conv2D).w       4608 (3, 3, 16, 32)\n",
      "(SimpleNet).block1(Sequential)[3](Conv2D).b         32 (32, 1, 1)\n",
      "(SimpleNet).block1(Sequential)[3](Conv2D).w       9216 (3, 3, 32, 32)\n",
      "(SimpleNet).block2(Sequential)[0](Conv2D).b         64 (64, 1, 1)\n",
      "(SimpleNet).block2(Sequential)[0](Conv2D).w      18432 (3, 3, 32, 64)\n",
      "(SimpleNet).block2(Sequential)[3](Conv2D).b         64 (64, 1, 1)\n",
      "(SimpleNet).block2(Sequential)[3](Conv2D).w      36864 (3, 3, 64, 64)\n",
      "(SimpleNet).post_conv(Conv2D).b                     10 (10, 1, 1)\n",
      "(SimpleNet).post_conv(Conv2D).w                   5760 (3, 3, 64, 10)\n",
      "+Total(12)                                       75242\n"
     ]
    },
    {
     "name": "stderr",
     "output_type": "stream",
     "text": [
      "Epoch 2/40 :  10%|█         | 6144/60416 [00:00<00:00, 54395.71img/s] "
     ]
    },
    {
     "name": "stdout",
     "output_type": "stream",
     "text": [
      "Epoch 0001  Accuracy 81.13\n"
     ]
    },
    {
     "name": "stderr",
     "output_type": "stream",
     "text": [
      "Epoch 3/40 :  11%|█         | 6656/60416 [00:00<00:01, 52973.48img/s] "
     ]
    },
    {
     "name": "stdout",
     "output_type": "stream",
     "text": [
      "Epoch 0002  Accuracy 92.02\n"
     ]
    },
    {
     "name": "stderr",
     "output_type": "stream",
     "text": [
      "Epoch 4/40 :  10%|█         | 6144/60416 [00:00<00:00, 55131.54img/s] "
     ]
    },
    {
     "name": "stdout",
     "output_type": "stream",
     "text": [
      "Epoch 0003  Accuracy 94.80\n"
     ]
    },
    {
     "name": "stderr",
     "output_type": "stream",
     "text": [
      "Epoch 5/40 :  10%|█         | 6144/60416 [00:00<00:00, 56902.31img/s] "
     ]
    },
    {
     "name": "stdout",
     "output_type": "stream",
     "text": [
      "Epoch 0004  Accuracy 96.06\n"
     ]
    },
    {
     "name": "stderr",
     "output_type": "stream",
     "text": [
      "Epoch 6/40 :  12%|█▏        | 7168/60416 [00:00<00:00, 64699.25img/s] "
     ]
    },
    {
     "name": "stdout",
     "output_type": "stream",
     "text": [
      "Epoch 0005  Accuracy 96.86\n"
     ]
    },
    {
     "name": "stderr",
     "output_type": "stream",
     "text": [
      "Epoch 7/40 :  10%|█         | 6144/60416 [00:00<00:00, 55611.00img/s] "
     ]
    },
    {
     "name": "stdout",
     "output_type": "stream",
     "text": [
      "Epoch 0006  Accuracy 97.38\n"
     ]
    },
    {
     "name": "stderr",
     "output_type": "stream",
     "text": [
      "Epoch 8/40 :  10%|█         | 6144/60416 [00:00<00:00, 54334.01img/s] "
     ]
    },
    {
     "name": "stdout",
     "output_type": "stream",
     "text": [
      "Epoch 0007  Accuracy 97.80\n"
     ]
    },
    {
     "name": "stderr",
     "output_type": "stream",
     "text": [
      "Epoch 9/40 :  10%|█         | 6144/60416 [00:00<00:00, 54880.51img/s] "
     ]
    },
    {
     "name": "stdout",
     "output_type": "stream",
     "text": [
      "Epoch 0008  Accuracy 98.09\n"
     ]
    },
    {
     "name": "stderr",
     "output_type": "stream",
     "text": [
      "Epoch 10/40 :  10%|█         | 6144/60416 [00:00<00:00, 56188.90img/s]"
     ]
    },
    {
     "name": "stdout",
     "output_type": "stream",
     "text": [
      "Epoch 0009  Accuracy 98.37\n"
     ]
    },
    {
     "name": "stderr",
     "output_type": "stream",
     "text": [
      "Epoch 11/40 :  10%|█         | 6144/60416 [00:00<00:00, 54351.54img/s] "
     ]
    },
    {
     "name": "stdout",
     "output_type": "stream",
     "text": [
      "Epoch 0010  Accuracy 98.54\n"
     ]
    },
    {
     "name": "stderr",
     "output_type": "stream",
     "text": [
      "Epoch 12/40 :  10%|█         | 6144/60416 [00:00<00:00, 54324.73img/s] "
     ]
    },
    {
     "name": "stdout",
     "output_type": "stream",
     "text": [
      "Epoch 0011  Accuracy 98.65\n"
     ]
    },
    {
     "name": "stderr",
     "output_type": "stream",
     "text": [
      "Epoch 13/40 :  10%|█         | 6144/60416 [00:00<00:01, 53927.41img/s] "
     ]
    },
    {
     "name": "stdout",
     "output_type": "stream",
     "text": [
      "Epoch 0012  Accuracy 98.79\n"
     ]
    },
    {
     "name": "stderr",
     "output_type": "stream",
     "text": [
      "Epoch 14/40 :  10%|█         | 6144/60416 [00:00<00:00, 57170.69img/s] "
     ]
    },
    {
     "name": "stdout",
     "output_type": "stream",
     "text": [
      "Epoch 0013  Accuracy 98.90\n"
     ]
    },
    {
     "name": "stderr",
     "output_type": "stream",
     "text": [
      "Epoch 15/40 :  10%|█         | 6144/60416 [00:00<00:01, 53870.59img/s] "
     ]
    },
    {
     "name": "stdout",
     "output_type": "stream",
     "text": [
      "Epoch 0014  Accuracy 98.99\n"
     ]
    },
    {
     "name": "stderr",
     "output_type": "stream",
     "text": [
      "Epoch 16/40 :  10%|█         | 6144/60416 [00:00<00:01, 52559.90img/s] "
     ]
    },
    {
     "name": "stdout",
     "output_type": "stream",
     "text": [
      "Epoch 0015  Accuracy 99.04\n"
     ]
    },
    {
     "name": "stderr",
     "output_type": "stream",
     "text": [
      "Epoch 17/40 :  10%|█         | 6144/60416 [00:00<00:00, 54981.09img/s] "
     ]
    },
    {
     "name": "stdout",
     "output_type": "stream",
     "text": [
      "Epoch 0016  Accuracy 99.12\n"
     ]
    },
    {
     "name": "stderr",
     "output_type": "stream",
     "text": [
      "Epoch 18/40 :  10%|█         | 6144/60416 [00:00<00:01, 52460.39img/s] "
     ]
    },
    {
     "name": "stdout",
     "output_type": "stream",
     "text": [
      "Epoch 0017  Accuracy 99.18\n"
     ]
    },
    {
     "name": "stderr",
     "output_type": "stream",
     "text": [
      "Epoch 19/40 :  10%|█         | 6144/60416 [00:00<00:00, 57335.03img/s] "
     ]
    },
    {
     "name": "stdout",
     "output_type": "stream",
     "text": [
      "Epoch 0018  Accuracy 99.26\n"
     ]
    },
    {
     "name": "stderr",
     "output_type": "stream",
     "text": [
      "Epoch 20/40 :  10%|█         | 6144/60416 [00:00<00:01, 53510.62img/s] "
     ]
    },
    {
     "name": "stdout",
     "output_type": "stream",
     "text": [
      "Epoch 0019  Accuracy 99.31\n"
     ]
    },
    {
     "name": "stderr",
     "output_type": "stream",
     "text": [
      "Epoch 21/40 :  10%|█         | 6144/60416 [00:00<00:00, 55123.64img/s] "
     ]
    },
    {
     "name": "stdout",
     "output_type": "stream",
     "text": [
      "Epoch 0020  Accuracy 99.36\n"
     ]
    },
    {
     "name": "stderr",
     "output_type": "stream",
     "text": [
      "Epoch 22/40 :  10%|█         | 6144/60416 [00:00<00:00, 54484.72img/s] "
     ]
    },
    {
     "name": "stdout",
     "output_type": "stream",
     "text": [
      "Epoch 0021  Accuracy 99.39\n"
     ]
    },
    {
     "name": "stderr",
     "output_type": "stream",
     "text": [
      "Epoch 23/40 :  10%|█         | 6144/60416 [00:00<00:01, 54074.40img/s] "
     ]
    },
    {
     "name": "stdout",
     "output_type": "stream",
     "text": [
      "Epoch 0022  Accuracy 99.41\n"
     ]
    },
    {
     "name": "stderr",
     "output_type": "stream",
     "text": [
      "Epoch 24/40 :  10%|█         | 6144/60416 [00:00<00:01, 53878.25img/s] "
     ]
    },
    {
     "name": "stdout",
     "output_type": "stream",
     "text": [
      "Epoch 0023  Accuracy 99.42\n"
     ]
    },
    {
     "name": "stderr",
     "output_type": "stream",
     "text": [
      "Epoch 25/40 :  10%|█         | 6144/60416 [00:00<00:00, 55241.68img/s] "
     ]
    },
    {
     "name": "stdout",
     "output_type": "stream",
     "text": [
      "Epoch 0024  Accuracy 99.43\n"
     ]
    },
    {
     "name": "stderr",
     "output_type": "stream",
     "text": [
      "Epoch 26/40 :  10%|█         | 6144/60416 [00:00<00:00, 54719.00img/s] "
     ]
    },
    {
     "name": "stdout",
     "output_type": "stream",
     "text": [
      "Epoch 0025  Accuracy 99.47\n"
     ]
    },
    {
     "name": "stderr",
     "output_type": "stream",
     "text": [
      "Epoch 27/40 :  10%|█         | 6144/60416 [00:00<00:00, 55292.41img/s] "
     ]
    },
    {
     "name": "stdout",
     "output_type": "stream",
     "text": [
      "Epoch 0026  Accuracy 99.46\n"
     ]
    },
    {
     "name": "stderr",
     "output_type": "stream",
     "text": [
      "Epoch 28/40 :  10%|█         | 6144/60416 [00:00<00:01, 53361.36img/s] "
     ]
    },
    {
     "name": "stdout",
     "output_type": "stream",
     "text": [
      "Epoch 0027  Accuracy 99.47\n"
     ]
    },
    {
     "name": "stderr",
     "output_type": "stream",
     "text": [
      "Epoch 29/40 :  10%|█         | 6144/60416 [00:00<00:01, 54121.87img/s] "
     ]
    },
    {
     "name": "stdout",
     "output_type": "stream",
     "text": [
      "Epoch 0028  Accuracy 99.48\n"
     ]
    },
    {
     "name": "stderr",
     "output_type": "stream",
     "text": [
      "Epoch 30/40 :  10%|█         | 6144/60416 [00:00<00:00, 54410.41img/s] "
     ]
    },
    {
     "name": "stdout",
     "output_type": "stream",
     "text": [
      "Epoch 0029  Accuracy 99.49\n"
     ]
    },
    {
     "name": "stderr",
     "output_type": "stream",
     "text": [
      "Epoch 31/40 :  10%|█         | 6144/60416 [00:00<00:00, 55004.10img/s] "
     ]
    },
    {
     "name": "stdout",
     "output_type": "stream",
     "text": [
      "Epoch 0030  Accuracy 99.48\n"
     ]
    },
    {
     "name": "stderr",
     "output_type": "stream",
     "text": [
      "Epoch 32/40 :  10%|█         | 6144/60416 [00:00<00:01, 53526.85img/s] "
     ]
    },
    {
     "name": "stdout",
     "output_type": "stream",
     "text": [
      "Epoch 0031  Accuracy 99.49\n"
     ]
    },
    {
     "name": "stderr",
     "output_type": "stream",
     "text": [
      "Epoch 33/40 :  10%|█         | 6144/60416 [00:00<00:01, 53645.96img/s] "
     ]
    },
    {
     "name": "stdout",
     "output_type": "stream",
     "text": [
      "Epoch 0032  Accuracy 99.51\n"
     ]
    },
    {
     "name": "stderr",
     "output_type": "stream",
     "text": [
      "Epoch 34/40 :  10%|█         | 6144/60416 [00:00<00:00, 54949.32img/s] "
     ]
    },
    {
     "name": "stdout",
     "output_type": "stream",
     "text": [
      "Epoch 0033  Accuracy 99.50\n"
     ]
    },
    {
     "name": "stderr",
     "output_type": "stream",
     "text": [
      "Epoch 35/40 :  10%|█         | 6144/60416 [00:00<00:00, 55157.50img/s] "
     ]
    },
    {
     "name": "stdout",
     "output_type": "stream",
     "text": [
      "Epoch 0034  Accuracy 99.52\n"
     ]
    },
    {
     "name": "stderr",
     "output_type": "stream",
     "text": [
      "Epoch 36/40 :  10%|█         | 6144/60416 [00:00<00:01, 52774.53img/s] "
     ]
    },
    {
     "name": "stdout",
     "output_type": "stream",
     "text": [
      "Epoch 0035  Accuracy 99.53\n"
     ]
    },
    {
     "name": "stderr",
     "output_type": "stream",
     "text": [
      "Epoch 37/40 :  10%|█         | 6144/60416 [00:00<00:00, 55297.75img/s] "
     ]
    },
    {
     "name": "stdout",
     "output_type": "stream",
     "text": [
      "Epoch 0036  Accuracy 99.49\n"
     ]
    },
    {
     "name": "stderr",
     "output_type": "stream",
     "text": [
      "Epoch 38/40 :  10%|█         | 6144/60416 [00:00<00:00, 55001.16img/s] "
     ]
    },
    {
     "name": "stdout",
     "output_type": "stream",
     "text": [
      "Epoch 0037  Accuracy 99.51\n"
     ]
    },
    {
     "name": "stderr",
     "output_type": "stream",
     "text": [
      "Epoch 39/40 :  10%|█         | 6144/60416 [00:00<00:00, 55309.03img/s] "
     ]
    },
    {
     "name": "stdout",
     "output_type": "stream",
     "text": [
      "Epoch 0038  Accuracy 99.53\n"
     ]
    },
    {
     "name": "stderr",
     "output_type": "stream",
     "text": [
      "Epoch 40/40 :  10%|█         | 6144/60416 [00:00<00:01, 53560.44img/s] "
     ]
    },
    {
     "name": "stdout",
     "output_type": "stream",
     "text": [
      "Epoch 0039  Accuracy 99.54\n"
     ]
    },
    {
     "name": "stderr",
     "output_type": "stream",
     "text": [
      "                                                                       \r"
     ]
    },
    {
     "name": "stdout",
     "output_type": "stream",
     "text": [
      "Epoch 0040  Accuracy 99.55\n"
     ]
    }
   ],
   "source": [
    "# Training\n",
    "print(model.vars())\n",
    "for epoch in range(epochs):\n",
    "    # Train one epoch\n",
    "    loop = trange(0, train_size, batch,\n",
    "                  leave=False, unit='img', unit_scale=batch,\n",
    "                  desc='Epoch %d/%d ' % (1 + epoch, epochs))\n",
    "    for it in loop:\n",
    "        sel = np.random.randint(size=(batch,), low=0, high=train.image.shape[0])\n",
    "        v = train_op(augment(train.image[sel]), train.label[sel])\n",
    "\n",
    "    # Eval\n",
    "    accuracy = 0\n",
    "    for it in trange(0, test.image.shape[0], test_batch, leave=False, desc='Evaluating'):\n",
    "        x = test.image[it: it + test_batch]\n",
    "        xl = test.label[it: it + test_batch]\n",
    "        accuracy += (np.argmax(predict(x), axis=1) == xl).sum()\n",
    "    accuracy /= test.image.shape[0]\n",
    "    print(f'Epoch {epoch + 1:04d}  Accuracy {100 * accuracy:.2f}')"
   ]
  }
 ],
 "metadata": {
  "kernelspec": {
   "display_name": "Python 3",
   "language": "python",
   "name": "python3"
  },
  "language_info": {
   "codemirror_mode": {
    "name": "ipython",
    "version": 3
   },
   "file_extension": ".py",
   "mimetype": "text/x-python",
   "name": "python",
   "nbconvert_exporter": "python",
   "pygments_lexer": "ipython3",
   "version": "3.8.8"
  }
 },
 "nbformat": 4,
 "nbformat_minor": 5
}
