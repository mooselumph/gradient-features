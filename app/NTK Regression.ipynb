{
 "cells": [
  {
   "cell_type": "markdown",
   "id": "cf372653",
   "metadata": {},
   "source": [
    "Jax Resources:\n",
    "https://jax.readthedocs.io/en/latest/faq.html#controlling-data-and-computation-placement-on-devices\n",
    "https://jax.readthedocs.io/en/latest/gpu_memory_allocation.html"
   ]
  },
  {
   "cell_type": "code",
   "execution_count": null,
   "id": "2a9954a1",
   "metadata": {},
   "outputs": [],
   "source": [
    "!pip install seaborn\n",
    "!pip install matplotlib"
   ]
  },
  {
   "cell_type": "code",
   "execution_count": 1,
   "id": "9be35695",
   "metadata": {},
   "outputs": [
    {
     "name": "stdout",
     "output_type": "stream",
     "text": [
      "env: CUDA_VISIBLE_DEVICES=2,3\n"
     ]
    }
   ],
   "source": [
    "%env CUDA_VISIBLE_DEVICES=2,3"
   ]
  },
  {
   "cell_type": "code",
   "execution_count": 2,
   "id": "a922fb8b",
   "metadata": {},
   "outputs": [
    {
     "name": "stderr",
     "output_type": "stream",
     "text": [
      "Matplotlib created a temporary config/cache directory at /tmp/matplotlib-4s8uqza1 because the default path (/home/jovyan/.cache/matplotlib) is not a writable directory; it is highly recommended to set the MPLCONFIGDIR environment variable to a writable directory, in particular to speed up the import of Matplotlib and to better support multiprocessing.\n"
     ]
    }
   ],
   "source": [
    "from typing import Generator, Mapping, Tuple\n",
    "\n",
    "from absl import app\n",
    "import haiku as hk\n",
    "import jax\n",
    "import jax.numpy as jnp\n",
    "from jax import random\n",
    "import numpy as np\n",
    "import optax\n",
    "import tensorflow_datasets as tfds\n",
    "\n",
    "from jax.tree_util import tree_flatten, tree_unflatten\n",
    "\n"
   ]
  },
  {
   "cell_type": "code",
   "execution_count": 3,
   "id": "b843d113",
   "metadata": {},
   "outputs": [
    {
     "data": {
      "text/plain": [
       "[GpuDevice(id=0, task=0), GpuDevice(id=1, task=0)]"
      ]
     },
     "execution_count": 3,
     "metadata": {},
     "output_type": "execute_result"
    }
   ],
   "source": [
    "jax.devices()"
   ]
  },
  {
   "cell_type": "code",
   "execution_count": 4,
   "id": "a54966f4",
   "metadata": {},
   "outputs": [],
   "source": [
    "import matplotlib.pyplot as plt"
   ]
  },
  {
   "cell_type": "markdown",
   "id": "e7a7ff48",
   "metadata": {},
   "source": [
    "## Model"
   ]
  },
  {
   "cell_type": "code",
   "execution_count": 5,
   "id": "d6898a87",
   "metadata": {},
   "outputs": [],
   "source": [
    "Batch = Mapping[str, np.ndarray]\n",
    "\n",
    "\n",
    "def net_fn(batch: Batch) -> jnp.ndarray:\n",
    "  \"\"\"Standard LeNet-300-100 MLP network.\"\"\"\n",
    "  x = batch[\"image\"].astype(jnp.float32) / 255.\n",
    "  mlp = hk.Sequential([\n",
    "      hk.Flatten(),\n",
    "      hk.Linear(300), jax.nn.relu,\n",
    "      hk.Linear(100), jax.nn.relu,\n",
    "      hk.Linear(10),\n",
    "  ])\n",
    "  return mlp(x)\n",
    "\n",
    "\n",
    "def net_fn_cnn(batch: jnp.ndarray) -> jnp.ndarray:\n",
    "  \"\"\"Standard LeNet-300-100 MLP network.\"\"\"\n",
    "  x = batch[\"image\"].astype(jnp.float32) / 255.\n",
    "  cnn = hk.Sequential([\n",
    "      hk.Conv2D(24,5),\n",
    "      hk.MaxPool(window_shape=2, strides=2, padding=\"VALID\", channel_axis=- 1, name=None),\n",
    "      hk.Conv2D(48,5),\n",
    "      hk.MaxPool(window_shape=2, strides=2, padding=\"VALID\", channel_axis=- 1, name=None),\n",
    "      hk.Flatten(),\n",
    "      hk.Linear(10),\n",
    "  ])\n",
    "  return cnn(x)\n",
    "\n",
    "\n",
    "def load_dataset(\n",
    "    split: str,\n",
    "    *,\n",
    "    is_training: bool,\n",
    "    batch_size: int,\n",
    ") -> Generator[Batch, None, None]:\n",
    "  \"\"\"Loads the dataset as a generator of batches.\"\"\"\n",
    "  ds = tfds.load(\"fashion_mnist:3.*.*\", split=split).cache().repeat()\n",
    "  if is_training:\n",
    "    ds = ds.shuffle(10 * batch_size, seed=0)\n",
    "  ds = ds.batch(batch_size)\n",
    "  return iter(tfds.as_numpy(ds))\n",
    "\n",
    "# Make the network and optimiser.\n",
    "net = hk.without_apply_rng(hk.transform(net_fn_cnn))\n",
    "opt = optax.adam(1e-3)\n",
    "\n",
    "# Training loss (cross-entropy).\n",
    "def loss(params: hk.Params, batch: Batch) -> jnp.ndarray:\n",
    "    \"\"\"Compute the loss of the network, including L2.\"\"\"\n",
    "    logits = net.apply(params, batch)\n",
    "    labels = jax.nn.one_hot(batch[\"label\"], 10)\n",
    "\n",
    "    l2_loss = 0.5 * sum(jnp.sum(jnp.square(p)) for p in jax.tree_leaves(params))\n",
    "    softmax_xent = -jnp.sum(labels * jax.nn.log_softmax(logits))\n",
    "    softmax_xent /= labels.shape[0]\n",
    "\n",
    "    return softmax_xent + 1e-4 * l2_loss\n",
    "\n",
    "# Evaluation metric (classification accuracy).\n",
    "@jax.jit\n",
    "def accuracy(params: hk.Params, batch: Batch) -> jnp.ndarray:\n",
    "    predictions = net.apply(params, batch)\n",
    "    return jnp.mean(jnp.argmax(predictions, axis=-1) == batch[\"label\"])\n",
    "\n",
    "@jax.jit\n",
    "def update(\n",
    "    params: hk.Params,\n",
    "    opt_state: optax.OptState,\n",
    "    batch: Batch,\n",
    ") -> Tuple[hk.Params, optax.OptState]:\n",
    "    \"\"\"Learning rule (stochastic gradient descent).\"\"\"\n",
    "    grads = jax.grad(loss)(params, batch)\n",
    "    updates, opt_state = opt.update(grads, opt_state)\n",
    "    new_params = optax.apply_updates(params, updates)\n",
    "    return new_params, opt_state\n",
    "\n",
    "# We maintain avg_params, the exponential moving average of the \"live\" params.\n",
    "# avg_params is used only for evaluation (cf. https://doi.org/10.1137/0330046)\n",
    "@jax.jit\n",
    "def ema_update(params, avg_params):\n",
    "    return optax.incremental_update(params, avg_params, step_size=0.001)"
   ]
  },
  {
   "cell_type": "markdown",
   "id": "c42cd188",
   "metadata": {},
   "source": [
    "## Train"
   ]
  },
  {
   "cell_type": "code",
   "execution_count": 59,
   "id": "ab1c27a1",
   "metadata": {},
   "outputs": [],
   "source": [
    "# Make datasets.\n",
    "train = load_dataset(\"train[0:10000]\", is_training=True, batch_size=1000)\n",
    "train_eval = load_dataset(\"train\", is_training=False, batch_size=10000)\n",
    "test_eval = load_dataset(\"test\", is_training=False, batch_size=10000)"
   ]
  },
  {
   "cell_type": "code",
   "execution_count": 60,
   "id": "a9add71e",
   "metadata": {},
   "outputs": [
    {
     "name": "stdout",
     "output_type": "stream",
     "text": [
      "[Step 0] Train / Test accuracy: 0.076 / 0.079.\n",
      "[Step 1000] Train / Test accuracy: 0.878 / 0.869.\n",
      "[Step 2000] Train / Test accuracy: 0.888 / 0.881.\n",
      "[Step 3000] Train / Test accuracy: 0.886 / 0.879.\n",
      "[Step 4000] Train / Test accuracy: 0.886 / 0.877.\n",
      "[Step 5000] Train / Test accuracy: 0.888 / 0.877.\n"
     ]
    },
    {
     "ename": "KeyboardInterrupt",
     "evalue": "",
     "output_type": "error",
     "traceback": [
      "\u001b[0;31m---------------------------------------------------------------------------\u001b[0m",
      "\u001b[0;31mKeyboardInterrupt\u001b[0m                         Traceback (most recent call last)",
      "\u001b[0;32m<ipython-input-60-87eae1b2f53f>\u001b[0m in \u001b[0;36m<module>\u001b[0;34m\u001b[0m\n\u001b[1;32m     15\u001b[0m \u001b[0;34m\u001b[0m\u001b[0m\n\u001b[1;32m     16\u001b[0m     \u001b[0;31m# Do SGD on a batch of training examples.\u001b[0m\u001b[0;34m\u001b[0m\u001b[0;34m\u001b[0m\u001b[0;34m\u001b[0m\u001b[0m\n\u001b[0;32m---> 17\u001b[0;31m     \u001b[0mparams\u001b[0m\u001b[0;34m,\u001b[0m \u001b[0mopt_state\u001b[0m \u001b[0;34m=\u001b[0m \u001b[0mupdate\u001b[0m\u001b[0;34m(\u001b[0m\u001b[0mparams\u001b[0m\u001b[0;34m,\u001b[0m \u001b[0mopt_state\u001b[0m\u001b[0;34m,\u001b[0m \u001b[0mnext\u001b[0m\u001b[0;34m(\u001b[0m\u001b[0mtrain\u001b[0m\u001b[0;34m)\u001b[0m\u001b[0;34m)\u001b[0m\u001b[0;34m\u001b[0m\u001b[0;34m\u001b[0m\u001b[0m\n\u001b[0m\u001b[1;32m     18\u001b[0m     \u001b[0mavg_params\u001b[0m \u001b[0;34m=\u001b[0m \u001b[0mema_update\u001b[0m\u001b[0;34m(\u001b[0m\u001b[0mparams\u001b[0m\u001b[0;34m,\u001b[0m \u001b[0mavg_params\u001b[0m\u001b[0;34m)\u001b[0m\u001b[0;34m\u001b[0m\u001b[0;34m\u001b[0m\u001b[0m\n",
      "\u001b[0;32m/opt/conda/lib/python3.8/site-packages/jax/api.py\u001b[0m in \u001b[0;36mf_jitted\u001b[0;34m(*args, **kwargs)\u001b[0m\n\u001b[1;32m    414\u001b[0m         \u001b[0;32mreturn\u001b[0m \u001b[0mcpp_jitted_f\u001b[0m\u001b[0;34m(\u001b[0m\u001b[0;34m*\u001b[0m\u001b[0margs\u001b[0m\u001b[0;34m,\u001b[0m \u001b[0;34m**\u001b[0m\u001b[0mkwargs\u001b[0m\u001b[0;34m)\u001b[0m\u001b[0;34m\u001b[0m\u001b[0;34m\u001b[0m\u001b[0m\n\u001b[1;32m    415\u001b[0m       \u001b[0;32melse\u001b[0m\u001b[0;34m:\u001b[0m\u001b[0;34m\u001b[0m\u001b[0;34m\u001b[0m\u001b[0m\n\u001b[0;32m--> 416\u001b[0;31m         \u001b[0;32mreturn\u001b[0m \u001b[0mcpp_jitted_f\u001b[0m\u001b[0;34m(\u001b[0m\u001b[0mcontext\u001b[0m\u001b[0;34m,\u001b[0m \u001b[0;34m*\u001b[0m\u001b[0margs\u001b[0m\u001b[0;34m,\u001b[0m \u001b[0;34m**\u001b[0m\u001b[0mkwargs\u001b[0m\u001b[0;34m)\u001b[0m\u001b[0;34m\u001b[0m\u001b[0;34m\u001b[0m\u001b[0m\n\u001b[0m\u001b[1;32m    417\u001b[0m     \u001b[0mf_jitted\u001b[0m\u001b[0;34m.\u001b[0m\u001b[0m_cpp_jitted_f\u001b[0m \u001b[0;34m=\u001b[0m \u001b[0mcpp_jitted_f\u001b[0m\u001b[0;34m\u001b[0m\u001b[0;34m\u001b[0m\u001b[0m\n\u001b[1;32m    418\u001b[0m   \u001b[0;32melse\u001b[0m\u001b[0;34m:\u001b[0m\u001b[0;34m\u001b[0m\u001b[0;34m\u001b[0m\u001b[0m\n",
      "\u001b[0;32m/opt/conda/lib/python3.8/site-packages/haiku/_src/data_structures.py\u001b[0m in \u001b[0;36m<lambda>\u001b[0;34m(treedef, leaves)\u001b[0m\n\u001b[1;32m    260\u001b[0m     \u001b[0mFlatMapping\u001b[0m\u001b[0;34m,\u001b[0m\u001b[0;34m\u001b[0m\u001b[0;34m\u001b[0m\u001b[0m\n\u001b[1;32m    261\u001b[0m     \u001b[0;32mlambda\u001b[0m \u001b[0ms\u001b[0m\u001b[0;34m:\u001b[0m \u001b[0;34m(\u001b[0m\u001b[0ms\u001b[0m\u001b[0;34m.\u001b[0m\u001b[0m_leaves\u001b[0m\u001b[0;34m,\u001b[0m \u001b[0ms\u001b[0m\u001b[0;34m.\u001b[0m\u001b[0m_structure\u001b[0m\u001b[0;34m)\u001b[0m\u001b[0;34m,\u001b[0m  \u001b[0;31m# pylint: disable=protected-access\u001b[0m\u001b[0;34m\u001b[0m\u001b[0;34m\u001b[0m\u001b[0m\n\u001b[0;32m--> 262\u001b[0;31m     lambda treedef, leaves: FlatMapping(FlatComponents(leaves, treedef)))\n\u001b[0m\u001b[1;32m    263\u001b[0m \u001b[0;34m\u001b[0m\u001b[0m\n\u001b[1;32m    264\u001b[0m \u001b[0;31m#      _                               _           _\u001b[0m\u001b[0;34m\u001b[0m\u001b[0;34m\u001b[0m\u001b[0;34m\u001b[0m\u001b[0m\n",
      "\u001b[0;31mKeyboardInterrupt\u001b[0m: "
     ]
    }
   ],
   "source": [
    "# Initialize network and optimiser; note we draw an input to get shapes.\n",
    "params = avg_params = net.init(jax.random.PRNGKey(42), next(train))\n",
    "opt_state = opt.init(params)\n",
    "\n",
    "# Train/eval loop.\n",
    "for step in range(10001):\n",
    "    if step % 1000 == 0:\n",
    "        # Periodically evaluate classification accuracy on train & test sets.\n",
    "        train_accuracy = accuracy(avg_params, next(train_eval))\n",
    "        test_accuracy = accuracy(avg_params, next(test_eval))\n",
    "        train_accuracy, test_accuracy = jax.device_get(\n",
    "          (train_accuracy, test_accuracy))\n",
    "        print(f\"[Step {step}] Train / Test accuracy: \"\n",
    "            f\"{train_accuracy:.3f} / {test_accuracy:.3f}.\")\n",
    "\n",
    "    # Do SGD on a batch of training examples.\n",
    "    params, opt_state = update(params, opt_state, next(train))\n",
    "    avg_params = ema_update(params, avg_params)\n"
   ]
  },
  {
   "cell_type": "markdown",
   "id": "2eaea115",
   "metadata": {},
   "source": [
    "## NTK"
   ]
  },
  {
   "cell_type": "code",
   "execution_count": 16,
   "id": "cc04ba15",
   "metadata": {},
   "outputs": [],
   "source": [
    "# Make datasets.\n",
    "train = load_dataset(\"train\", is_training=True, batch_size=1000)\n",
    "train_eval = load_dataset(\"train\", is_training=False, batch_size=10000)\n",
    "test_eval = load_dataset(\"test\", is_training=False, batch_size=10000)"
   ]
  },
  {
   "cell_type": "code",
   "execution_count": 12,
   "id": "567c29a1",
   "metadata": {},
   "outputs": [],
   "source": [
    "def ptwise_loss(params, batch):\n",
    "    batch['image'] = jnp.expand_dims(batch['image'],0)\n",
    "    batch['label'] = jnp.expand_dims(batch['label'],0)\n",
    "    return loss(params,batch)\n",
    "\n",
    "ptwise_grad = jax.vmap(jax.grad(ptwise_loss),in_axes=(None,{\"image\":0,\"label\":0}),out_axes=0)\n",
    "\n",
    "def ravel_pytree(pytree):\n",
    "    leaves, treedef = tree_flatten(pytree)\n",
    "    batch_size = leaves[0].shape[0]\n",
    "    return jnp.concatenate([jnp.reshape(elt,(batch_size,-1)) for elt in leaves],axis=1)"
   ]
  },
  {
   "cell_type": "code",
   "execution_count": 13,
   "id": "9092fe37",
   "metadata": {},
   "outputs": [],
   "source": [
    "train_eval = load_dataset(\"train\", is_training=False, batch_size=1000)\n",
    "batch = next(train_eval)\n",
    "\n",
    "params = net.init(jax.random.PRNGKey(42), next(train))\n",
    "grads = ptwise_grad(params,batch)\n",
    "features = ravel_pytree(grads)"
   ]
  },
  {
   "cell_type": "code",
   "execution_count": 43,
   "id": "b5d56d3c",
   "metadata": {},
   "outputs": [
    {
     "name": "stdout",
     "output_type": "stream",
     "text": [
      "(1, 28, 28, 1)\n",
      "(1000, 28, 28, 1)\n"
     ]
    }
   ],
   "source": [
    "item = {'image':jnp.expand_dims(batch['image'][0],0),'label':jnp.expand_dims(batch['label'][0],0)}\n",
    "normal_grads = jax.grad(loss)(params,item)"
   ]
  },
  {
   "cell_type": "markdown",
   "id": "d9077ccd",
   "metadata": {},
   "source": [
    "## Jacobian"
   ]
  },
  {
   "cell_type": "code",
   "execution_count": 92,
   "id": "c6c4e9fb",
   "metadata": {},
   "outputs": [],
   "source": [
    "def ravel_pytree(pytree):\n",
    "    leaves, treedef = tree_flatten(pytree)\n",
    "    batch_size = leaves[0].shape[0]\n",
    "    return jnp.concatenate([jnp.reshape(elt,(batch_size,-1)) for elt in leaves],axis=1)"
   ]
  },
  {
   "cell_type": "code",
   "execution_count": 96,
   "id": "00f0cd97",
   "metadata": {},
   "outputs": [],
   "source": [
    "from jax import jacfwd, jacrev\n",
    "\n",
    "# Make datasets.\n",
    "train = load_dataset(\"train\", is_training=False, batch_size=10)\n",
    "batch = next(train)\n",
    "\n",
    "params = net.init(jax.random.PRNGKey(42), next(train))"
   ]
  },
  {
   "cell_type": "code",
   "execution_count": 97,
   "id": "2f86f6b4",
   "metadata": {},
   "outputs": [],
   "source": [
    "f = lambda params: net.apply(params,batch)\n",
    "J = jacrev(f)(params)\n",
    "features = ravel_pytree(J)"
   ]
  },
  {
   "cell_type": "code",
   "execution_count": 89,
   "id": "71f0a3c0",
   "metadata": {},
   "outputs": [
    {
     "name": "stdout",
     "output_type": "stream",
     "text": [
      "21.5 ms ± 56.4 µs per loop (mean ± std. dev. of 7 runs, 10 loops each)\n"
     ]
    }
   ],
   "source": [
    "def test():\n",
    "    f = lambda params: net.apply(params,batch)\n",
    "\n",
    "    J = jacrev(f)(params)\n",
    "    \n",
    "#     t = np.asarray(small_feat)\n",
    "#     j = jnp.asarray(t)\n",
    "#     g = j @ j.T\n",
    "    \n",
    "    \n",
    "%timeit test()\n",
    "    "
   ]
  },
  {
   "cell_type": "code",
   "execution_count": 211,
   "id": "a0244cfe",
   "metadata": {},
   "outputs": [],
   "source": [
    "def Achlio_matrix(large_dim, small_dim, prng_key):\n",
    "    print(large_dim)\n",
    "    mat =  random.choice(prng_key, np.array([-1, 0, 1]), \n",
    "                         shape=(large_dim,), p=np.array([1./6., 2./3., 1./6.]), replace=True)\n",
    "    return jnp.sqrt(3)*mat\n",
    "\n",
    "@jax.jit\n",
    "def one_feature(key, old_features):\n",
    "    vec = jnp.ravel(Achlio_matrix(old_features.shape[0],1, key))\n",
    "    return jnp.dot(vec, old_features)\n",
    "\n",
    "\n",
    "@jax.jit\n",
    "def new_features(keys, old_features):\n",
    "    @jax.jit\n",
    "    def f(carry, key):\n",
    "        return carry, one_feature(key, old_features)\n",
    "    _, res = jax.lax.scan(f, None, keys)\n",
    "    return res\n",
    "\n",
    "\n",
    "def get_keys(seq, num_keys):\n",
    "    return jnp.array([next(seq) for i in range(num_keys)])"
   ]
  },
  {
   "cell_type": "code",
   "execution_count": 102,
   "id": "520e2fa4",
   "metadata": {},
   "outputs": [],
   "source": [
    "num_points = 10000\n",
    "num_features = 10000\n",
    "batch_size = 10\n",
    "keys = get_keys(hk.PRNGSequence(42), num_features)"
   ]
  },
  {
   "cell_type": "code",
   "execution_count": 209,
   "id": "dfb3a931",
   "metadata": {},
   "outputs": [
    {
     "data": {
      "text/plain": [
       "(530020,)"
      ]
     },
     "execution_count": 209,
     "metadata": {},
     "output_type": "execute_result"
    }
   ],
   "source": [
    "features[0,:].T.shape"
   ]
  },
  {
   "cell_type": "code",
   "execution_count": 218,
   "id": "1d6916eb",
   "metadata": {},
   "outputs": [
    {
     "name": "stdout",
     "output_type": "stream",
     "text": [
      "530020\n",
      "530020\n",
      "(10000,)\n",
      "(10000,)\n"
     ]
    }
   ],
   "source": [
    "new_feat1 = new_features(keys, features[0,:].T)\n",
    "\n",
    "new_feat2 = new_features(keys, features.T)\n",
    "print(new_feat1.shape)\n",
    "print(new_feat2.shape)"
   ]
  },
  {
   "cell_type": "code",
   "execution_count": 221,
   "id": "289ef5bb",
   "metadata": {},
   "outputs": [
    {
     "name": "stdout",
     "output_type": "stream",
     "text": [
      "[  43.628754    45.888294   -25.406141  ...    3.3309922 -105.36375\n",
      "   12.776087 ]\n",
      "[  43.628773    45.8883     -25.406118  ...    3.3309946 -105.36376\n",
      "   12.776093 ]\n"
     ]
    }
   ],
   "source": [
    "print(new_feat1)\n",
    "print(new_feat2[:,0])"
   ]
  },
  {
   "cell_type": "code",
   "execution_count": 223,
   "id": "1a99fa5a",
   "metadata": {},
   "outputs": [
    {
     "data": {
      "text/plain": [
       "True"
      ]
     },
     "execution_count": 223,
     "metadata": {},
     "output_type": "execute_result"
    }
   ],
   "source": [
    "all(abs(new_feat1 - new_feat2[:,0])<0.0001)"
   ]
  },
  {
   "cell_type": "code",
   "execution_count": 128,
   "id": "1969e710",
   "metadata": {},
   "outputs": [
    {
     "data": {
      "application/vnd.jupyter.widget-view+json": {
       "model_id": "d5cfa3b600ec4542a59cb6de47f9c696",
       "version_major": 2,
       "version_minor": 0
      },
      "text/plain": [
       "Progress:   0%|          | 0/1000.0 [00:00<?, ?it/s]"
      ]
     },
     "metadata": {},
     "output_type": "display_data"
    },
    {
     "ename": "ValueError",
     "evalue": "could not broadcast input array from shape (10,10000) into shape (0,10000)",
     "output_type": "error",
     "traceback": [
      "\u001b[0;31m---------------------------------------------------------------------------\u001b[0m",
      "\u001b[0;31mValueError\u001b[0m                                Traceback (most recent call last)",
      "\u001b[0;32m<ipython-input-128-49f4a592d7c6>\u001b[0m in \u001b[0;36m<module>\u001b[0;34m\u001b[0m\n\u001b[1;32m     24\u001b[0m \u001b[0;34m\u001b[0m\u001b[0m\n\u001b[1;32m     25\u001b[0m     \u001b[0;31m# move to cpu\u001b[0m\u001b[0;34m\u001b[0m\u001b[0;34m\u001b[0m\u001b[0;34m\u001b[0m\u001b[0m\n\u001b[0;32m---> 26\u001b[0;31m     \u001b[0mall_reduced_features\u001b[0m\u001b[0;34m[\u001b[0m\u001b[0midx\u001b[0m\u001b[0;34m*\u001b[0m\u001b[0mbatch_size\u001b[0m\u001b[0;34m:\u001b[0m\u001b[0;34m(\u001b[0m\u001b[0midx\u001b[0m\u001b[0;34m+\u001b[0m\u001b[0;36m1\u001b[0m\u001b[0;34m)\u001b[0m\u001b[0;34m*\u001b[0m\u001b[0mbatch_size\u001b[0m\u001b[0;34m]\u001b[0m \u001b[0;34m=\u001b[0m \u001b[0mnew\u001b[0m\u001b[0;34m\u001b[0m\u001b[0;34m\u001b[0m\u001b[0m\n\u001b[0m",
      "\u001b[0;31mValueError\u001b[0m: could not broadcast input array from shape (10,10000) into shape (0,10000)"
     ]
    }
   ],
   "source": [
    "from jax import jacrev\n",
    "from tqdm.notebook import tqdm\n",
    "\n",
    "num_points = 10000\n",
    "num_features = 10000\n",
    "batch_size = 10\n",
    "\n",
    "keys = get_keys(hk.PRNGSequence(42), num_features)\n",
    "\n",
    "train = load_dataset(\"train[0:{}]\".format(num_points), is_training=True, batch_size=batch_size)\n",
    "params = net.init(jax.random.PRNGKey(42), next(train))\n",
    "\n",
    "all_reduced_features = np.zeros((num_points, num_features))\n",
    "\n",
    "for idx, batch in tqdm(enumerate(train), total=num_points/batch_size, desc=\"Progress\"):\n",
    "\n",
    "    f = lambda params: net.apply(params,batch)\n",
    "    J = jacrev(f)(params)\n",
    "    features = ravel_pytree(J)\n",
    "    \n",
    "    # dimension reduce\n",
    "    new = new_features(keys, features.T).T\n",
    "\n",
    "    # move to cpu\n",
    "    all_reduced_features[idx*batch_size:(idx+1)*batch_size] = new"
   ]
  },
  {
   "cell_type": "code",
   "execution_count": 229,
   "id": "a3fb4d05",
   "metadata": {},
   "outputs": [
    {
     "data": {
      "application/vnd.jupyter.widget-view+json": {
       "model_id": "b4c29d52003a4fd5800be8d6a45ade7f",
       "version_major": 2,
       "version_minor": 0
      },
      "text/plain": [
       "Progress:   0%|          | 0/1000.0 [00:00<?, ?it/s]"
      ]
     },
     "metadata": {},
     "output_type": "display_data"
    }
   ],
   "source": [
    "train = load_dataset(\"train[0:{}]\".format(num_points), is_training=True, batch_size=batch_size)\n",
    "t = next(train)\n",
    "labels = np.zeros(num_points)\n",
    "for idx, batch in tqdm(enumerate(train), total=num_points/batch_size, desc=\"Progress\"):\n",
    "    \n",
    "    if idx >= num_points/batch_size:\n",
    "        break\n",
    "    \n",
    "    labels[idx*batch_size:(idx+1)*batch_size] = batch['label']\n",
    "    "
   ]
  },
  {
   "cell_type": "markdown",
   "id": "0539f40c",
   "metadata": {},
   "source": [
    "## Estimate Expected Distance between Classes"
   ]
  },
  {
   "cell_type": "code",
   "execution_count": 163,
   "id": "527cbc3a",
   "metadata": {},
   "outputs": [
    {
     "data": {
      "application/vnd.jupyter.widget-view+json": {
       "model_id": "c65dfd5291b74a6fb70c45a1e83a61f5",
       "version_major": 2,
       "version_minor": 0
      },
      "text/plain": [
       "  0%|          | 0/100000 [00:00<?, ?it/s]"
      ]
     },
     "metadata": {},
     "output_type": "display_data"
    }
   ],
   "source": [
    "seq = hk.PRNGSequence(42)\n",
    "\n",
    "def avg_sim(features,labels,classes,rng_seq,num_iters=100000):\n",
    "    \n",
    "    n_classes = len(classes)\n",
    "    counts = np.zeros(shape=(n_classes,n_classes))\n",
    "    totals = np.zeros(shape=(n_classes,n_classes))\n",
    "    \n",
    "    batch_size = features.shape[0]\n",
    "    \n",
    "    # Randomly sample two points\n",
    "    \n",
    "    for _ in tqdm(range(num_iters)):\n",
    "    \n",
    "        [i,j]  = random.choice(next(rng_seq),np.arange(batch_size),shape=(2,),replace=False)\n",
    "        \n",
    "        prod = jnp.dot(features[i],features[j])/features.shape[1]\n",
    "        \n",
    "        indi = classes.index(labels[i])\n",
    "        indj = classes.index(labels[j])\n",
    "        \n",
    "        totals[indi,indj] += prod\n",
    "        counts[indi,indj] += 1\n",
    "    \n",
    "    totals = (totals + totals.T)/2\n",
    "    counts = (counts + counts.T)/2\n",
    "    \n",
    "\n",
    "    return totals/counts\n",
    "\n",
    "\n",
    "classes = list(range(10))\n",
    "#labels = batch['label']\n",
    "\n",
    "sim = avg_sim(all_reduced_features[:5000,:],labels[:5000],classes,seq)"
   ]
  },
  {
   "cell_type": "code",
   "execution_count": 168,
   "id": "d2accbb7",
   "metadata": {},
   "outputs": [],
   "source": [
    "gramm = all_reduced_features @ all_reduced_features.T"
   ]
  },
  {
   "cell_type": "code",
   "execution_count": 225,
   "id": "27e03b9c",
   "metadata": {},
   "outputs": [
    {
     "data": {
      "application/vnd.jupyter.widget-view+json": {
       "model_id": "f43a67f119b34028a61d1c6d6ec892e5",
       "version_major": 2,
       "version_minor": 0
      },
      "text/plain": [
       "  0%|          | 0/10 [00:00<?, ?it/s]"
      ]
     },
     "metadata": {},
     "output_type": "display_data"
    }
   ],
   "source": [
    "n_classes = 10\n",
    "classes = list(range(n_classes))\n",
    "l = np.expand_dims(labels,1)\n",
    "\n",
    "counts = np.zeros(shape=(n_classes,n_classes))\n",
    "totals = np.zeros(shape=(n_classes,n_classes))\n",
    "    \n",
    "for i in tqdm(classes):\n",
    "    for j in classes:\n",
    "        \n",
    "        mask = (l == i) @ (l == j).T\n",
    "\n",
    "        counts[i,j] = np.sum(mask)\n",
    "        totals[i,j] = np.sum(gramm * mask)\n",
    "        \n",
    "sim = totals/counts\n",
    "        "
   ]
  },
  {
   "cell_type": "code",
   "execution_count": 239,
   "id": "59da2900",
   "metadata": {},
   "outputs": [],
   "source": [
    "s = sim.copy()\n",
    "for i in classes:\n",
    "    for j in classes:\n",
    "        \n",
    "        sim[i,j] /= np.sqrt(s[i,i]*s[j,j])"
   ]
  },
  {
   "cell_type": "code",
   "execution_count": 152,
   "id": "3b00628f",
   "metadata": {},
   "outputs": [],
   "source": [
    "np.save('reduced_features',all_reduced_features)"
   ]
  },
  {
   "cell_type": "code",
   "execution_count": 240,
   "id": "d8f76445",
   "metadata": {},
   "outputs": [
    {
     "data": {
      "text/plain": [
       "<matplotlib.colorbar.Colorbar at 0x7fcaac2c31f0>"
      ]
     },
     "execution_count": 240,
     "metadata": {},
     "output_type": "execute_result"
    },
    {
     "data": {
      "image/png": "[encoded data removed]",
      "text/plain": [
       "<Figure size 432x288 with 2 Axes>"
      ]
     },
     "metadata": {
      "needs_background": "light"
     },
     "output_type": "display_data"
    }
   ],
   "source": [
    "plt.imshow(sim)\n",
    "plt.colorbar()"
   ]
  }
 ],
 "metadata": {
  "kernelspec": {
   "display_name": "Python 3",
   "language": "python",
   "name": "python3"
  },
  "language_info": {
   "codemirror_mode": {
    "name": "ipython",
    "version": 3
   },
   "file_extension": ".py",
   "mimetype": "text/x-python",
   "name": "python",
   "nbconvert_exporter": "python",
   "pygments_lexer": "ipython3",
   "version": "3.8.8"
  }
 },
 "nbformat": 4,
 "nbformat_minor": 5
}
